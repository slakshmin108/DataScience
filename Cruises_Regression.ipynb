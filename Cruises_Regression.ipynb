{
 "cells": [
  {
   "cell_type": "code",
   "execution_count": 1,
   "metadata": {},
   "outputs": [],
   "source": [
    "# Predictive analytics for cruises"
   ]
  },
  {
   "cell_type": "code",
   "execution_count": 2,
   "metadata": {},
   "outputs": [],
   "source": [
    "import findspark"
   ]
  },
  {
   "cell_type": "code",
   "execution_count": 3,
   "metadata": {},
   "outputs": [],
   "source": [
    "findspark.init('/home/lakshmi/spark-2.4.5-bin-hadoop2.7')"
   ]
  },
  {
   "cell_type": "code",
   "execution_count": 4,
   "metadata": {},
   "outputs": [],
   "source": [
    "from pyspark.sql import SparkSession"
   ]
  },
  {
   "cell_type": "code",
   "execution_count": 5,
   "metadata": {},
   "outputs": [],
   "source": [
    "from pyspark.sql.functions import isnull, sum"
   ]
  },
  {
   "cell_type": "code",
   "execution_count": 6,
   "metadata": {},
   "outputs": [],
   "source": [
    "import matplotlib.pyplot as plt\n",
    "import pandas as pd"
   ]
  },
  {
   "cell_type": "code",
   "execution_count": 7,
   "metadata": {},
   "outputs": [],
   "source": [
    "spark = SparkSession.builder.appName(\"cruise\").getOrCreate()"
   ]
  },
  {
   "cell_type": "code",
   "execution_count": 8,
   "metadata": {},
   "outputs": [],
   "source": [
    "df1 = spark.read.csv(\"/media/sf_Ubuntu_Shared/cruise_ship_info.csv\", inferSchema=True, header=True)"
   ]
  },
  {
   "cell_type": "code",
   "execution_count": 9,
   "metadata": {},
   "outputs": [
    {
     "name": "stdout",
     "output_type": "stream",
     "text": [
      "root\n",
      " |-- Ship_name: string (nullable = true)\n",
      " |-- Cruise_line: string (nullable = true)\n",
      " |-- Age: integer (nullable = true)\n",
      " |-- Tonnage: double (nullable = true)\n",
      " |-- passengers: double (nullable = true)\n",
      " |-- length: double (nullable = true)\n",
      " |-- cabins: double (nullable = true)\n",
      " |-- passenger_density: double (nullable = true)\n",
      " |-- crew: double (nullable = true)\n",
      "\n"
     ]
    }
   ],
   "source": [
    "df1.printSchema()"
   ]
  },
  {
   "cell_type": "code",
   "execution_count": 10,
   "metadata": {},
   "outputs": [
    {
     "data": {
      "text/plain": [
       "158"
      ]
     },
     "execution_count": 10,
     "metadata": {},
     "output_type": "execute_result"
    }
   ],
   "source": [
    "df1.count()"
   ]
  },
  {
   "cell_type": "code",
   "execution_count": 11,
   "metadata": {},
   "outputs": [
    {
     "name": "stdout",
     "output_type": "stream",
     "text": [
      "+---------+-----+\n",
      "|Ship_name|count|\n",
      "+---------+-----+\n",
      "|    false|  158|\n",
      "+---------+-----+\n",
      "\n",
      "+-----------+-----+\n",
      "|Cruise_line|count|\n",
      "+-----------+-----+\n",
      "|      false|  158|\n",
      "+-----------+-----+\n",
      "\n",
      "+-----+-----+\n",
      "|  Age|count|\n",
      "+-----+-----+\n",
      "|false|  158|\n",
      "+-----+-----+\n",
      "\n",
      "+-------+-----+\n",
      "|Tonnage|count|\n",
      "+-------+-----+\n",
      "|  false|  158|\n",
      "+-------+-----+\n",
      "\n",
      "+----------+-----+\n",
      "|passengers|count|\n",
      "+----------+-----+\n",
      "|     false|  158|\n",
      "+----------+-----+\n",
      "\n",
      "+------+-----+\n",
      "|length|count|\n",
      "+------+-----+\n",
      "| false|  158|\n",
      "+------+-----+\n",
      "\n",
      "+------+-----+\n",
      "|cabins|count|\n",
      "+------+-----+\n",
      "| false|  158|\n",
      "+------+-----+\n",
      "\n",
      "+-----------------+-----+\n",
      "|passenger_density|count|\n",
      "+-----------------+-----+\n",
      "|            false|  158|\n",
      "+-----------------+-----+\n",
      "\n",
      "+-----+-----+\n",
      "| crew|count|\n",
      "+-----+-----+\n",
      "|false|  158|\n",
      "+-----+-----+\n",
      "\n"
     ]
    }
   ],
   "source": [
    "# Check if there are missing values\n",
    "for col in df1.columns:\n",
    "    df1.select(isnull(col).alias(col)).groupBy(col).count().show()    "
   ]
  },
  {
   "cell_type": "markdown",
   "metadata": {},
   "source": [
    "No missing data observed"
   ]
  },
  {
   "cell_type": "markdown",
   "metadata": {},
   "source": [
    "## Exploratory Data Analysis"
   ]
  },
  {
   "cell_type": "code",
   "execution_count": 12,
   "metadata": {},
   "outputs": [],
   "source": [
    "df2 = df1.sample(withReplacement=False, fraction=0.5, seed=1) # random sample for histograms"
   ]
  },
  {
   "cell_type": "code",
   "execution_count": 13,
   "metadata": {},
   "outputs": [],
   "source": [
    "row_list = df2.select('Age', 'Tonnage', 'passengers', 'length', 'cabins',\n",
    "                     'passenger_density', 'crew').collect()"
   ]
  },
  {
   "cell_type": "code",
   "execution_count": 14,
   "metadata": {},
   "outputs": [
    {
     "data": {
      "text/plain": [
       "Row(Age=6, Tonnage=30.277, passengers=6.94, length=5.94, cabins=3.55, passenger_density=42.64, crew=3.55)"
      ]
     },
     "execution_count": 14,
     "metadata": {},
     "output_type": "execute_result"
    }
   ],
   "source": [
    "row_list[0]"
   ]
  },
  {
   "cell_type": "code",
   "execution_count": 15,
   "metadata": {},
   "outputs": [],
   "source": [
    "age = [row.Age for row in row_list]\n",
    "tonnage = [row.Tonnage for row in row_list]\n",
    "passengers = [row.passengers for row in row_list]\n",
    "length = [row.length for row in row_list]\n",
    "cabins = [row.cabins for row in row_list]\n",
    "passenger_density = [row.passenger_density for row in row_list]\n",
    "crew = [row.crew for row in row_list]"
   ]
  },
  {
   "cell_type": "code",
   "execution_count": 16,
   "metadata": {},
   "outputs": [
    {
     "data": {
      "image/png": "[encoded data removed]",
      "text/plain": [
       "<matplotlib.figure.Figure at 0x7f36eaf706d8>"
      ]
     },
     "metadata": {
      "needs_background": "light"
     },
     "output_type": "display_data"
    }
   ],
   "source": [
    "plt.hist(age, density=True)\n",
    "plt.show()"
   ]
  },
  {
   "cell_type": "code",
   "execution_count": 17,
   "metadata": {},
   "outputs": [
    {
     "data": {
      "image/png": "[encoded data removed]",
      "text/plain": [
       "<matplotlib.figure.Figure at 0x7f3716b036a0>"
      ]
     },
     "metadata": {
      "needs_background": "light"
     },
     "output_type": "display_data"
    }
   ],
   "source": [
    "plt.hist(tonnage, density=True)\n",
    "plt.show()"
   ]
  },
  {
   "cell_type": "code",
   "execution_count": 18,
   "metadata": {},
   "outputs": [
    {
     "data": {
      "image/png": "[encoded data removed]",
      "text/plain": [
       "<matplotlib.figure.Figure at 0x7f36ea4156a0>"
      ]
     },
     "metadata": {
      "needs_background": "light"
     },
     "output_type": "display_data"
    }
   ],
   "source": [
    "plt.hist(passengers, density=True)\n",
    "plt.show()"
   ]
  },
  {
   "cell_type": "code",
   "execution_count": 19,
   "metadata": {},
   "outputs": [
    {
     "data": {
      "image/png": "[encoded data removed]",
      "text/plain": [
       "<matplotlib.figure.Figure at 0x7f36ea362ba8>"
      ]
     },
     "metadata": {
      "needs_background": "light"
     },
     "output_type": "display_data"
    }
   ],
   "source": [
    "plt.hist(length, density=True)\n",
    "plt.show()"
   ]
  },
  {
   "cell_type": "code",
   "execution_count": 20,
   "metadata": {},
   "outputs": [
    {
     "data": {
      "image/png": "[encoded data removed]",
      "text/plain": [
       "<matplotlib.figure.Figure at 0x7f36ea2ed748>"
      ]
     },
     "metadata": {
      "needs_background": "light"
     },
     "output_type": "display_data"
    }
   ],
   "source": [
    "plt.hist(cabins, density=True)\n",
    "plt.show()"
   ]
  },
  {
   "cell_type": "code",
   "execution_count": 21,
   "metadata": {},
   "outputs": [
    {
     "data": {
      "image/png": "[encoded data removed]",
      "text/plain": [
       "<matplotlib.figure.Figure at 0x7f36ea2da828>"
      ]
     },
     "metadata": {
      "needs_background": "light"
     },
     "output_type": "display_data"
    }
   ],
   "source": [
    "plt.hist(passenger_density, density=True)\n",
    "plt.show()"
   ]
  },
  {
   "cell_type": "code",
   "execution_count": 22,
   "metadata": {},
   "outputs": [
    {
     "data": {
      "image/png": "[encoded data removed]",
      "text/plain": [
       "<matplotlib.figure.Figure at 0x7f36ea345a58>"
      ]
     },
     "metadata": {
      "needs_background": "light"
     },
     "output_type": "display_data"
    }
   ],
   "source": [
    "plt.hist(crew, density=True)\n",
    "plt.show()"
   ]
  },
  {
   "cell_type": "markdown",
   "metadata": {},
   "source": [
    "Although some features are skewed, the rest have a symmetrical distribution."
   ]
  },
  {
   "cell_type": "markdown",
   "metadata": {},
   "source": [
    "Detect and remove outliers"
   ]
  },
  {
   "cell_type": "code",
   "execution_count": 23,
   "metadata": {},
   "outputs": [],
   "source": [
    "limits_df = pd.DataFrame()"
   ]
  },
  {
   "cell_type": "code",
   "execution_count": 24,
   "metadata": {},
   "outputs": [],
   "source": [
    "k = 2 #constant for defining upper and lower limits"
   ]
  },
  {
   "cell_type": "code",
   "execution_count": 25,
   "metadata": {},
   "outputs": [],
   "source": [
    "df1_numeric = df1.drop('Ship_name', 'Cruise_line')"
   ]
  },
  {
   "cell_type": "code",
   "execution_count": 26,
   "metadata": {},
   "outputs": [],
   "source": [
    "for col in df1_numeric.columns:\n",
    "    q =  df1.approxQuantile(col, [0.25, 0.75], 0.001)\n",
    "    IQR = q[1] - q[0]\n",
    "    lower_limit = q[0] - k * IQR\n",
    "    upper_limit = q[1] + k * IQR\n",
    "    limits_df.at['lower',col] = lower_limit\n",
    "    limits_df.at['upper',col] = upper_limit"
   ]
  },
  {
   "cell_type": "code",
   "execution_count": 27,
   "metadata": {},
   "outputs": [
    {
     "data": {
      "text/html": [
       "<div>\n",
       "<style scoped>\n",
       "    .dataframe tbody tr th:only-of-type {\n",
       "        vertical-align: middle;\n",
       "    }\n",
       "\n",
       "    .dataframe tbody tr th {\n",
       "        vertical-align: top;\n",
       "    }\n",
       "\n",
       "    .dataframe thead th {\n",
       "        text-align: right;\n",
       "    }\n",
       "</style>\n",
       "<table border=\"1\" class=\"dataframe\">\n",
       "  <thead>\n",
       "    <tr style=\"text-align: right;\">\n",
       "      <th></th>\n",
       "      <th>Age</th>\n",
       "      <th>Tonnage</th>\n",
       "      <th>passengers</th>\n",
       "      <th>length</th>\n",
       "      <th>cabins</th>\n",
       "      <th>passenger_density</th>\n",
       "      <th>crew</th>\n",
       "    </tr>\n",
       "  </thead>\n",
       "  <tbody>\n",
       "    <tr>\n",
       "      <th>lower</th>\n",
       "      <td>-10.0</td>\n",
       "      <td>-44.0</td>\n",
       "      <td>-12.52</td>\n",
       "      <td>2.25</td>\n",
       "      <td>-3.67</td>\n",
       "      <td>15.31</td>\n",
       "      <td>-3.63</td>\n",
       "    </tr>\n",
       "    <tr>\n",
       "      <th>upper</th>\n",
       "      <td>40.0</td>\n",
       "      <td>181.0</td>\n",
       "      <td>50.03</td>\n",
       "      <td>14.35</td>\n",
       "      <td>20.68</td>\n",
       "      <td>63.46</td>\n",
       "      <td>19.07</td>\n",
       "    </tr>\n",
       "  </tbody>\n",
       "</table>\n",
       "</div>"
      ],
      "text/plain": [
       "        Age  Tonnage  passengers  length  cabins  passenger_density   crew\n",
       "lower -10.0    -44.0      -12.52    2.25   -3.67              15.31  -3.63\n",
       "upper  40.0    181.0       50.03   14.35   20.68              63.46  19.07"
      ]
     },
     "execution_count": 27,
     "metadata": {},
     "output_type": "execute_result"
    }
   ],
   "source": [
    "limits_df"
   ]
  },
  {
   "cell_type": "code",
   "execution_count": 28,
   "metadata": {},
   "outputs": [
    {
     "data": {
      "text/plain": [
       "-10.0"
      ]
     },
     "execution_count": 28,
     "metadata": {},
     "output_type": "execute_result"
    }
   ],
   "source": [
    "limits_df.at['lower','Age']"
   ]
  },
  {
   "cell_type": "code",
   "execution_count": 29,
   "metadata": {},
   "outputs": [],
   "source": [
    "for col in df1_numeric.columns:\n",
    "    df1 = df1.filter((df1[col]>limits_df.at['lower',col]) & (df1[col]<limits_df.at['upper',col]))"
   ]
  },
  {
   "cell_type": "code",
   "execution_count": 30,
   "metadata": {},
   "outputs": [
    {
     "data": {
      "text/plain": [
       "148"
      ]
     },
     "execution_count": 30,
     "metadata": {},
     "output_type": "execute_result"
    }
   ],
   "source": [
    "df1.count() #count after removing the outliers"
   ]
  },
  {
   "cell_type": "markdown",
   "metadata": {},
   "source": [
    "calculate the correlation between features and target to determine important features"
   ]
  },
  {
   "cell_type": "code",
   "execution_count": 31,
   "metadata": {},
   "outputs": [
    {
     "name": "stdout",
     "output_type": "stream",
     "text": [
      "Age:  -0.6089\n",
      "Tonnage:  0.9323\n",
      "passengers:  0.9147\n",
      "length:  0.9156\n",
      "cabins:  0.9549\n",
      "passenger_density:  -0.0808\n"
     ]
    }
   ],
   "source": [
    "print(\"Age: \", round(df1.corr('Age', 'crew'), 4))\n",
    "print(\"Tonnage: \", round(df1.corr('Tonnage', 'crew'), 4))\n",
    "print(\"passengers: \", round(df1.corr('passengers', 'crew'), 4))\n",
    "print(\"length: \", round(df1.corr('length', 'crew'), 4))\n",
    "print(\"cabins: \", round(df1.corr('cabins', 'crew'), 4))\n",
    "print(\"passenger_density: \", round(df1.corr('passenger_density', 'crew'), 4))"
   ]
  },
  {
   "cell_type": "markdown",
   "metadata": {},
   "source": [
    "Drop passenger_density since it has a weak correlation with the target"
   ]
  },
  {
   "cell_type": "markdown",
   "metadata": {},
   "source": [
    "## Feature Engineering"
   ]
  },
  {
   "cell_type": "code",
   "execution_count": 32,
   "metadata": {},
   "outputs": [],
   "source": [
    "from pyspark.ml.feature import StringIndexer"
   ]
  },
  {
   "cell_type": "code",
   "execution_count": 33,
   "metadata": {},
   "outputs": [],
   "source": [
    "indexer = StringIndexer(inputCol='Cruise_line', outputCol = 'Cruise_label')"
   ]
  },
  {
   "cell_type": "code",
   "execution_count": 34,
   "metadata": {},
   "outputs": [],
   "source": [
    "cruise_model = indexer.fit(df1)"
   ]
  },
  {
   "cell_type": "code",
   "execution_count": 35,
   "metadata": {},
   "outputs": [],
   "source": [
    "df3 = cruise_model.transform(df1)"
   ]
  },
  {
   "cell_type": "code",
   "execution_count": 36,
   "metadata": {},
   "outputs": [
    {
     "name": "stdout",
     "output_type": "stream",
     "text": [
      "root\n",
      " |-- Ship_name: string (nullable = true)\n",
      " |-- Cruise_line: string (nullable = true)\n",
      " |-- Age: integer (nullable = true)\n",
      " |-- Tonnage: double (nullable = true)\n",
      " |-- passengers: double (nullable = true)\n",
      " |-- length: double (nullable = true)\n",
      " |-- cabins: double (nullable = true)\n",
      " |-- passenger_density: double (nullable = true)\n",
      " |-- crew: double (nullable = true)\n",
      " |-- Cruise_label: double (nullable = false)\n",
      "\n"
     ]
    }
   ],
   "source": [
    "df3.printSchema()"
   ]
  },
  {
   "cell_type": "markdown",
   "metadata": {},
   "source": [
    "Print the labels for Cruise_line"
   ]
  },
  {
   "cell_type": "code",
   "execution_count": 37,
   "metadata": {},
   "outputs": [
    {
     "name": "stdout",
     "output_type": "stream",
     "text": [
      "+-----------------+------------+\n",
      "|      Cruise_line|Cruise_label|\n",
      "+-----------------+------------+\n",
      "|  Royal_Caribbean|         0.0|\n",
      "|         Carnival|         1.0|\n",
      "|         Princess|         2.0|\n",
      "| Holland_American|         3.0|\n",
      "|        Norwegian|         4.0|\n",
      "|            Costa|         5.0|\n",
      "|        Celebrity|         6.0|\n",
      "|              MSC|         7.0|\n",
      "|             Star|         8.0|\n",
      "|              P&O|         9.0|\n",
      "|          Oceania|        10.0|\n",
      "|         Seabourn|        11.0|\n",
      "|         Windstar|        12.0|\n",
      "|          Azamara|        13.0|\n",
      "|           Disney|        14.0|\n",
      "|Regent_Seven_Seas|        15.0|\n",
      "|        Silversea|        16.0|\n",
      "|           Cunard|        17.0|\n",
      "|          Crystal|        18.0|\n",
      "+-----------------+------------+\n",
      "\n"
     ]
    }
   ],
   "source": [
    "df3.select('Cruise_line', 'Cruise_label').distinct().orderBy('Cruise_label').show()"
   ]
  },
  {
   "cell_type": "markdown",
   "metadata": {},
   "source": [
    "## Split Dataset"
   ]
  },
  {
   "cell_type": "code",
   "execution_count": 38,
   "metadata": {},
   "outputs": [],
   "source": [
    "from pyspark.ml.feature import VectorAssembler"
   ]
  },
  {
   "cell_type": "code",
   "execution_count": 39,
   "metadata": {},
   "outputs": [],
   "source": [
    "from pyspark.sql.functions import rand"
   ]
  },
  {
   "cell_type": "code",
   "execution_count": 40,
   "metadata": {},
   "outputs": [],
   "source": [
    "vecAssembler = VectorAssembler(inputCols = ['Age', 'Tonnage', 'passengers',\n",
    "                'length', 'cabins', 'passenger_density','Cruise_label'], \n",
    "                outputCol = 'features')"
   ]
  },
  {
   "cell_type": "code",
   "execution_count": 41,
   "metadata": {},
   "outputs": [],
   "source": [
    "df4 = vecAssembler.transform(df3)"
   ]
  },
  {
   "cell_type": "code",
   "execution_count": 42,
   "metadata": {},
   "outputs": [
    {
     "name": "stdout",
     "output_type": "stream",
     "text": [
      "+-----------+-----------+---+-------+----------+------+------+-----------------+----+------------+--------------------+\n",
      "|  Ship_name|Cruise_line|Age|Tonnage|passengers|length|cabins|passenger_density|crew|Cruise_label|            features|\n",
      "+-----------+-----------+---+-------+----------+------+------+-----------------+----+------------+--------------------+\n",
      "|    Journey|    Azamara|  6| 30.277|      6.94|  5.94|  3.55|            42.64|3.55|        13.0|[6.0,30.277,6.94,...|\n",
      "|      Quest|    Azamara|  6| 30.277|      6.94|  5.94|  3.55|            42.64|3.55|        13.0|[6.0,30.277,6.94,...|\n",
      "|Celebration|   Carnival| 26| 47.262|     14.86|  7.22|  7.43|             31.8| 6.7|         1.0|[26.0,47.262,14.8...|\n",
      "|    Destiny|   Carnival| 17|101.353|     26.42|  8.92| 13.21|            38.36|10.0|         1.0|[17.0,101.353,26....|\n",
      "|    Ecstasy|   Carnival| 22| 70.367|     20.52|  8.55|  10.2|            34.29| 9.2|         1.0|[22.0,70.367,20.5...|\n",
      "+-----------+-----------+---+-------+----------+------+------+-----------------+----+------------+--------------------+\n",
      "only showing top 5 rows\n",
      "\n"
     ]
    }
   ],
   "source": [
    "df4.show(5)"
   ]
  },
  {
   "cell_type": "code",
   "execution_count": 43,
   "metadata": {},
   "outputs": [],
   "source": [
    "df5 = df4.orderBy(rand()) # shuffle the dataset"
   ]
  },
  {
   "cell_type": "code",
   "execution_count": 44,
   "metadata": {},
   "outputs": [],
   "source": [
    "train, test = df5.randomSplit([0.75, 0.25], seed=2)"
   ]
  },
  {
   "cell_type": "code",
   "execution_count": 45,
   "metadata": {},
   "outputs": [
    {
     "data": {
      "text/plain": [
       "113"
      ]
     },
     "execution_count": 45,
     "metadata": {},
     "output_type": "execute_result"
    }
   ],
   "source": [
    "train.count()"
   ]
  },
  {
   "cell_type": "code",
   "execution_count": 46,
   "metadata": {},
   "outputs": [
    {
     "data": {
      "text/plain": [
       "35"
      ]
     },
     "execution_count": 46,
     "metadata": {},
     "output_type": "execute_result"
    }
   ],
   "source": [
    "test.count()"
   ]
  },
  {
   "cell_type": "markdown",
   "metadata": {},
   "source": [
    "## Fit regression model"
   ]
  },
  {
   "cell_type": "code",
   "execution_count": 47,
   "metadata": {},
   "outputs": [],
   "source": [
    "from pyspark.ml.regression import LinearRegression"
   ]
  },
  {
   "cell_type": "code",
   "execution_count": 48,
   "metadata": {},
   "outputs": [],
   "source": [
    "lrRegression = LinearRegression(featuresCol='features', labelCol='crew', predictionCol='prediction',\n",
    "                maxIter=1000)"
   ]
  },
  {
   "cell_type": "code",
   "execution_count": 49,
   "metadata": {},
   "outputs": [],
   "source": [
    "lrmodel = lrRegression.fit(train) "
   ]
  },
  {
   "cell_type": "code",
   "execution_count": 50,
   "metadata": {},
   "outputs": [
    {
     "data": {
      "text/plain": [
       "DenseVector([0.0009, 0.014, -0.1664, 0.5398, 0.809, -0.0158, 0.0629])"
      ]
     },
     "execution_count": 50,
     "metadata": {},
     "output_type": "execute_result"
    }
   ],
   "source": [
    "lrmodel.coefficients"
   ]
  },
  {
   "cell_type": "code",
   "execution_count": 51,
   "metadata": {},
   "outputs": [
    {
     "data": {
      "text/plain": [
       "-1.432724253735195"
      ]
     },
     "execution_count": 51,
     "metadata": {},
     "output_type": "execute_result"
    }
   ],
   "source": [
    "lrmodel.intercept"
   ]
  },
  {
   "cell_type": "code",
   "execution_count": 52,
   "metadata": {},
   "outputs": [],
   "source": [
    "lrSummary = lrmodel.evaluate(test)"
   ]
  },
  {
   "cell_type": "code",
   "execution_count": 53,
   "metadata": {},
   "outputs": [
    {
     "name": "stdout",
     "output_type": "stream",
     "text": [
      "Mean Absolute Error:  0.4704445583147811\n",
      "Mean Squared Error:  0.3058616120351166\n",
      "Root Mean Squared Error:  0.5530475676061839\n",
      "R2 score:  0.9630878844219348\n"
     ]
    }
   ],
   "source": [
    "print(\"Mean Absolute Error: \", lrSummary.meanAbsoluteError)\n",
    "print(\"Mean Squared Error: \", lrSummary.meanSquaredError)\n",
    "print(\"Root Mean Squared Error: \", lrSummary.rootMeanSquaredError)\n",
    "print(\"R2 score: \", lrSummary.r2)"
   ]
  },
  {
   "cell_type": "code",
   "execution_count": 54,
   "metadata": {},
   "outputs": [],
   "source": [
    "predicted_output = lrmodel.transform(test)"
   ]
  },
  {
   "cell_type": "code",
   "execution_count": 55,
   "metadata": {},
   "outputs": [
    {
     "name": "stdout",
     "output_type": "stream",
     "text": [
      "root\n",
      " |-- Ship_name: string (nullable = true)\n",
      " |-- Cruise_line: string (nullable = true)\n",
      " |-- Age: integer (nullable = true)\n",
      " |-- Tonnage: double (nullable = true)\n",
      " |-- passengers: double (nullable = true)\n",
      " |-- length: double (nullable = true)\n",
      " |-- cabins: double (nullable = true)\n",
      " |-- passenger_density: double (nullable = true)\n",
      " |-- crew: double (nullable = true)\n",
      " |-- Cruise_label: double (nullable = false)\n",
      " |-- features: vector (nullable = true)\n",
      " |-- prediction: double (nullable = false)\n",
      "\n"
     ]
    }
   ],
   "source": [
    "predicted_output.printSchema()"
   ]
  },
  {
   "cell_type": "code",
   "execution_count": 56,
   "metadata": {},
   "outputs": [
    {
     "data": {
      "text/plain": [
       "DataFrame[Ship_name: string, Cruise_line: string, Age: int, Tonnage: double, passengers: double, length: double, cabins: double, passenger_density: double, crew: double, Cruise_label: double, features: vector, prediction: double]"
      ]
     },
     "execution_count": 56,
     "metadata": {},
     "output_type": "execute_result"
    }
   ],
   "source": [
    "lrSummary.predictions"
   ]
  },
  {
   "cell_type": "code",
   "execution_count": 59,
   "metadata": {},
   "outputs": [
    {
     "name": "stdout",
     "output_type": "stream",
     "text": [
      "+-----------+---------------+---+-------+----------+------+------+-----------------+----+------------+--------------------+------------------+\n",
      "|  Ship_name|    Cruise_line|Age|Tonnage|passengers|length|cabins|passenger_density|crew|Cruise_label|            features|        prediction|\n",
      "+-----------+---------------+---+-------+----------+------+------+-----------------+----+------------+--------------------+------------------+\n",
      "|    Artemis|            P&O| 29|   45.0|     11.78|  7.54|   5.3|             38.2| 5.2|         9.0|[29.0,45.0,11.78,...| 5.585428186392052|\n",
      "| Brilliance|Royal_Caribbean| 11|  90.09|     25.01|  9.62|  10.5|            36.02|8.48|         0.0|[11.0,90.09,25.01...|  8.79740576096967|\n",
      "|Celebration|       Carnival| 26| 47.262|     14.86|  7.22|  7.43|             31.8| 6.7|         1.0|[26.0,47.262,14.8...|6.2502266208764174|\n",
      "|       Dawn|       Princess| 16| 77.499|      19.5|  8.56|  10.5|            39.74| 9.0|         2.0|[16.0,77.499,19.5...| 9.037149594608502|\n",
      "|    Empress|Royal_Caribbean| 23| 48.563|      20.2|  6.92|   8.0|            24.04|6.71|         0.0|[23.0,48.563,20.2...| 5.735908373870155|\n",
      "+-----------+---------------+---+-------+----------+------+------+-----------------+----+------------+--------------------+------------------+\n",
      "only showing top 5 rows\n",
      "\n"
     ]
    }
   ],
   "source": [
    "lrSummary.predictions.show(5)"
   ]
  },
  {
   "cell_type": "code",
   "execution_count": 58,
   "metadata": {},
   "outputs": [
    {
     "name": "stdout",
     "output_type": "stream",
     "text": [
      "+--------------------+\n",
      "|           residuals|\n",
      "+--------------------+\n",
      "| -0.3854281863920521|\n",
      "| -0.3174057609696703|\n",
      "| 0.44977337912358273|\n",
      "|-0.03714959460850231|\n",
      "|  0.9740916261298453|\n",
      "| -1.0085570774677546|\n",
      "| -0.7592182126437246|\n",
      "|  0.6546676728319358|\n",
      "|  0.5956529241923185|\n",
      "|  0.9160514754716464|\n",
      "+--------------------+\n",
      "only showing top 10 rows\n",
      "\n"
     ]
    }
   ],
   "source": [
    "lrSummary.residuals.show(10)"
   ]
  },
  {
   "cell_type": "code",
   "execution_count": null,
   "metadata": {},
   "outputs": [],
   "source": []
  }
 ],
 "metadata": {
  "kernelspec": {
   "display_name": "Python 3",
   "language": "python",
   "name": "python3"
  },
  "language_info": {
   "codemirror_mode": {
    "name": "ipython",
    "version": 3
   },
   "file_extension": ".py",
   "mimetype": "text/x-python",
   "name": "python",
   "nbconvert_exporter": "python",
   "pygments_lexer": "ipython3",
   "version": "3.6.9"
  }
 },
 "nbformat": 4,
 "nbformat_minor": 4
}
