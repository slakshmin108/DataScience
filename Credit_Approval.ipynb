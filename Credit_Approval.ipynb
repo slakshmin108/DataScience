{
 "cells": [
  {
   "cell_type": "code",
   "execution_count": 154,
   "metadata": {},
   "outputs": [],
   "source": [
    "from sklearn.tree import DecisionTreeClassifier, DecisionTreeRegressor\n",
    "from sklearn import tree\n",
    "import pandas as pd\n",
    "import numpy as np\n",
    "from sklearn.preprocessing import OneHotEncoder, LabelEncoder, OrdinalEncoder\n",
    "from scipy.sparse import hstack\n",
    "from sklearn.model_selection import train_test_split\n",
    "from sklearn.svm import SVC\n",
    "from sklearn.linear_model import LogisticRegression, LogisticRegressionCV, LinearRegression\n",
    "from sklearn.preprocessing import StandardScaler, RobustScaler\n",
    "import matplotlib.pyplot as plt\n",
    "from sklearn.ensemble import RandomForestClassifier, ExtraTreesClassifier\n",
    "from sklearn.cluster import dbscan\n",
    "from sklearn.feature_selection import f_classif, mutual_info_classif, chi2"
   ]
  },
  {
   "cell_type": "markdown",
   "metadata": {},
   "source": [
    "# Data preprocessing"
   ]
  },
  {
   "cell_type": "code",
   "execution_count": 3,
   "metadata": {},
   "outputs": [],
   "source": [
    "column_names = ['A1', 'A2', 'A3', 'A4', 'A5', 'A6', 'A7', 'A8', 'A9', 'A10', 'A11', 'A12', 'A13', 'A14', 'A15', 'target']\n",
    "df = pd.read_csv('/Users/babu/Mirror/Python_Programs/Scikit/credit_data.csv', \n",
    "           header=None, names=column_names, na_values='?')"
   ]
  },
  {
   "cell_type": "code",
   "execution_count": 4,
   "metadata": {},
   "outputs": [],
   "source": [
    "df1 = df.dropna()"
   ]
  },
  {
   "cell_type": "code",
   "execution_count": 5,
   "metadata": {},
   "outputs": [
    {
     "name": "stdout",
     "output_type": "stream",
     "text": [
      "<class 'pandas.core.frame.DataFrame'>\n",
      "Int64Index: 653 entries, 0 to 689\n",
      "Data columns (total 16 columns):\n",
      "A1        653 non-null object\n",
      "A2        653 non-null float64\n",
      "A3        653 non-null float64\n",
      "A4        653 non-null object\n",
      "A5        653 non-null object\n",
      "A6        653 non-null object\n",
      "A7        653 non-null object\n",
      "A8        653 non-null float64\n",
      "A9        653 non-null object\n",
      "A10       653 non-null object\n",
      "A11       653 non-null int64\n",
      "A12       653 non-null object\n",
      "A13       653 non-null object\n",
      "A14       653 non-null float64\n",
      "A15       653 non-null int64\n",
      "target    653 non-null object\n",
      "dtypes: float64(4), int64(2), object(10)\n",
      "memory usage: 86.7+ KB\n"
     ]
    }
   ],
   "source": [
    "df1.info()"
   ]
  },
  {
   "cell_type": "code",
   "execution_count": 6,
   "metadata": {},
   "outputs": [
    {
     "data": {
      "text/html": [
       "<div>\n",
       "<style scoped>\n",
       "    .dataframe tbody tr th:only-of-type {\n",
       "        vertical-align: middle;\n",
       "    }\n",
       "\n",
       "    .dataframe tbody tr th {\n",
       "        vertical-align: top;\n",
       "    }\n",
       "\n",
       "    .dataframe thead th {\n",
       "        text-align: right;\n",
       "    }\n",
       "</style>\n",
       "<table border=\"1\" class=\"dataframe\">\n",
       "  <thead>\n",
       "    <tr style=\"text-align: right;\">\n",
       "      <th></th>\n",
       "      <th>A1</th>\n",
       "      <th>A2</th>\n",
       "      <th>A3</th>\n",
       "      <th>A4</th>\n",
       "      <th>A5</th>\n",
       "      <th>A6</th>\n",
       "      <th>A7</th>\n",
       "      <th>A8</th>\n",
       "      <th>A9</th>\n",
       "      <th>A10</th>\n",
       "      <th>A11</th>\n",
       "      <th>A12</th>\n",
       "      <th>A13</th>\n",
       "      <th>A14</th>\n",
       "      <th>A15</th>\n",
       "      <th>target</th>\n",
       "    </tr>\n",
       "  </thead>\n",
       "  <tbody>\n",
       "    <tr>\n",
       "      <td>0</td>\n",
       "      <td>b</td>\n",
       "      <td>30.83</td>\n",
       "      <td>0.000</td>\n",
       "      <td>u</td>\n",
       "      <td>g</td>\n",
       "      <td>w</td>\n",
       "      <td>v</td>\n",
       "      <td>1.25</td>\n",
       "      <td>t</td>\n",
       "      <td>t</td>\n",
       "      <td>1</td>\n",
       "      <td>f</td>\n",
       "      <td>g</td>\n",
       "      <td>202.0</td>\n",
       "      <td>0</td>\n",
       "      <td>+</td>\n",
       "    </tr>\n",
       "    <tr>\n",
       "      <td>1</td>\n",
       "      <td>a</td>\n",
       "      <td>58.67</td>\n",
       "      <td>4.460</td>\n",
       "      <td>u</td>\n",
       "      <td>g</td>\n",
       "      <td>q</td>\n",
       "      <td>h</td>\n",
       "      <td>3.04</td>\n",
       "      <td>t</td>\n",
       "      <td>t</td>\n",
       "      <td>6</td>\n",
       "      <td>f</td>\n",
       "      <td>g</td>\n",
       "      <td>43.0</td>\n",
       "      <td>560</td>\n",
       "      <td>+</td>\n",
       "    </tr>\n",
       "    <tr>\n",
       "      <td>2</td>\n",
       "      <td>a</td>\n",
       "      <td>24.50</td>\n",
       "      <td>0.500</td>\n",
       "      <td>u</td>\n",
       "      <td>g</td>\n",
       "      <td>q</td>\n",
       "      <td>h</td>\n",
       "      <td>1.50</td>\n",
       "      <td>t</td>\n",
       "      <td>f</td>\n",
       "      <td>0</td>\n",
       "      <td>f</td>\n",
       "      <td>g</td>\n",
       "      <td>280.0</td>\n",
       "      <td>824</td>\n",
       "      <td>+</td>\n",
       "    </tr>\n",
       "    <tr>\n",
       "      <td>3</td>\n",
       "      <td>b</td>\n",
       "      <td>27.83</td>\n",
       "      <td>1.540</td>\n",
       "      <td>u</td>\n",
       "      <td>g</td>\n",
       "      <td>w</td>\n",
       "      <td>v</td>\n",
       "      <td>3.75</td>\n",
       "      <td>t</td>\n",
       "      <td>t</td>\n",
       "      <td>5</td>\n",
       "      <td>t</td>\n",
       "      <td>g</td>\n",
       "      <td>100.0</td>\n",
       "      <td>3</td>\n",
       "      <td>+</td>\n",
       "    </tr>\n",
       "    <tr>\n",
       "      <td>4</td>\n",
       "      <td>b</td>\n",
       "      <td>20.17</td>\n",
       "      <td>5.625</td>\n",
       "      <td>u</td>\n",
       "      <td>g</td>\n",
       "      <td>w</td>\n",
       "      <td>v</td>\n",
       "      <td>1.71</td>\n",
       "      <td>t</td>\n",
       "      <td>f</td>\n",
       "      <td>0</td>\n",
       "      <td>f</td>\n",
       "      <td>s</td>\n",
       "      <td>120.0</td>\n",
       "      <td>0</td>\n",
       "      <td>+</td>\n",
       "    </tr>\n",
       "  </tbody>\n",
       "</table>\n",
       "</div>"
      ],
      "text/plain": [
       "  A1     A2     A3 A4 A5 A6 A7    A8 A9 A10  A11 A12 A13    A14  A15 target\n",
       "0  b  30.83  0.000  u  g  w  v  1.25  t   t    1   f   g  202.0    0      +\n",
       "1  a  58.67  4.460  u  g  q  h  3.04  t   t    6   f   g   43.0  560      +\n",
       "2  a  24.50  0.500  u  g  q  h  1.50  t   f    0   f   g  280.0  824      +\n",
       "3  b  27.83  1.540  u  g  w  v  3.75  t   t    5   t   g  100.0    3      +\n",
       "4  b  20.17  5.625  u  g  w  v  1.71  t   f    0   f   s  120.0    0      +"
      ]
     },
     "execution_count": 6,
     "metadata": {},
     "output_type": "execute_result"
    }
   ],
   "source": [
    "df1.head()"
   ]
  },
  {
   "cell_type": "code",
   "execution_count": 7,
   "metadata": {},
   "outputs": [
    {
     "data": {
      "text/html": [
       "<div>\n",
       "<style scoped>\n",
       "    .dataframe tbody tr th:only-of-type {\n",
       "        vertical-align: middle;\n",
       "    }\n",
       "\n",
       "    .dataframe tbody tr th {\n",
       "        vertical-align: top;\n",
       "    }\n",
       "\n",
       "    .dataframe thead th {\n",
       "        text-align: right;\n",
       "    }\n",
       "</style>\n",
       "<table border=\"1\" class=\"dataframe\">\n",
       "  <thead>\n",
       "    <tr style=\"text-align: right;\">\n",
       "      <th></th>\n",
       "      <th>A2</th>\n",
       "      <th>A3</th>\n",
       "      <th>A8</th>\n",
       "      <th>A11</th>\n",
       "      <th>A14</th>\n",
       "      <th>A15</th>\n",
       "    </tr>\n",
       "  </thead>\n",
       "  <tbody>\n",
       "    <tr>\n",
       "      <td>count</td>\n",
       "      <td>653.000000</td>\n",
       "      <td>653.000000</td>\n",
       "      <td>653.000000</td>\n",
       "      <td>653.000000</td>\n",
       "      <td>653.000000</td>\n",
       "      <td>653.000000</td>\n",
       "    </tr>\n",
       "    <tr>\n",
       "      <td>mean</td>\n",
       "      <td>31.503813</td>\n",
       "      <td>4.829533</td>\n",
       "      <td>2.244296</td>\n",
       "      <td>2.502297</td>\n",
       "      <td>180.359877</td>\n",
       "      <td>1013.761103</td>\n",
       "    </tr>\n",
       "    <tr>\n",
       "      <td>std</td>\n",
       "      <td>11.838267</td>\n",
       "      <td>5.027077</td>\n",
       "      <td>3.371120</td>\n",
       "      <td>4.968497</td>\n",
       "      <td>168.296811</td>\n",
       "      <td>5253.278504</td>\n",
       "    </tr>\n",
       "    <tr>\n",
       "      <td>min</td>\n",
       "      <td>13.750000</td>\n",
       "      <td>0.000000</td>\n",
       "      <td>0.000000</td>\n",
       "      <td>0.000000</td>\n",
       "      <td>0.000000</td>\n",
       "      <td>0.000000</td>\n",
       "    </tr>\n",
       "    <tr>\n",
       "      <td>25%</td>\n",
       "      <td>22.580000</td>\n",
       "      <td>1.040000</td>\n",
       "      <td>0.165000</td>\n",
       "      <td>0.000000</td>\n",
       "      <td>73.000000</td>\n",
       "      <td>0.000000</td>\n",
       "    </tr>\n",
       "    <tr>\n",
       "      <td>50%</td>\n",
       "      <td>28.420000</td>\n",
       "      <td>2.835000</td>\n",
       "      <td>1.000000</td>\n",
       "      <td>0.000000</td>\n",
       "      <td>160.000000</td>\n",
       "      <td>5.000000</td>\n",
       "    </tr>\n",
       "    <tr>\n",
       "      <td>75%</td>\n",
       "      <td>38.250000</td>\n",
       "      <td>7.500000</td>\n",
       "      <td>2.625000</td>\n",
       "      <td>3.000000</td>\n",
       "      <td>272.000000</td>\n",
       "      <td>400.000000</td>\n",
       "    </tr>\n",
       "    <tr>\n",
       "      <td>max</td>\n",
       "      <td>76.750000</td>\n",
       "      <td>28.000000</td>\n",
       "      <td>28.500000</td>\n",
       "      <td>67.000000</td>\n",
       "      <td>2000.000000</td>\n",
       "      <td>100000.000000</td>\n",
       "    </tr>\n",
       "  </tbody>\n",
       "</table>\n",
       "</div>"
      ],
      "text/plain": [
       "               A2          A3          A8         A11          A14  \\\n",
       "count  653.000000  653.000000  653.000000  653.000000   653.000000   \n",
       "mean    31.503813    4.829533    2.244296    2.502297   180.359877   \n",
       "std     11.838267    5.027077    3.371120    4.968497   168.296811   \n",
       "min     13.750000    0.000000    0.000000    0.000000     0.000000   \n",
       "25%     22.580000    1.040000    0.165000    0.000000    73.000000   \n",
       "50%     28.420000    2.835000    1.000000    0.000000   160.000000   \n",
       "75%     38.250000    7.500000    2.625000    3.000000   272.000000   \n",
       "max     76.750000   28.000000   28.500000   67.000000  2000.000000   \n",
       "\n",
       "                 A15  \n",
       "count     653.000000  \n",
       "mean     1013.761103  \n",
       "std      5253.278504  \n",
       "min         0.000000  \n",
       "25%         0.000000  \n",
       "50%         5.000000  \n",
       "75%       400.000000  \n",
       "max    100000.000000  "
      ]
     },
     "execution_count": 7,
     "metadata": {},
     "output_type": "execute_result"
    }
   ],
   "source": [
    "df1.describe()"
   ]
  },
  {
   "cell_type": "code",
   "execution_count": 8,
   "metadata": {},
   "outputs": [],
   "source": [
    "X_raw = df1.iloc[:,0:15].to_numpy()"
   ]
  },
  {
   "cell_type": "code",
   "execution_count": 9,
   "metadata": {},
   "outputs": [
    {
     "data": {
      "text/plain": [
       "array([['b', 30.83, 0.0, 'u', 'g', 'w', 'v', 1.25, 't', 't', 1, 'f', 'g',\n",
       "        202.0, 0],\n",
       "       ['a', 58.67, 4.46, 'u', 'g', 'q', 'h', 3.04, 't', 't', 6, 'f',\n",
       "        'g', 43.0, 560],\n",
       "       ['a', 24.5, 0.5, 'u', 'g', 'q', 'h', 1.5, 't', 'f', 0, 'f', 'g',\n",
       "        280.0, 824],\n",
       "       ['b', 27.83, 1.54, 'u', 'g', 'w', 'v', 3.75, 't', 't', 5, 't',\n",
       "        'g', 100.0, 3],\n",
       "       ['b', 20.17, 5.625, 'u', 'g', 'w', 'v', 1.71, 't', 'f', 0, 'f',\n",
       "        's', 120.0, 0]], dtype=object)"
      ]
     },
     "execution_count": 9,
     "metadata": {},
     "output_type": "execute_result"
    }
   ],
   "source": [
    "X_raw[0:5]"
   ]
  },
  {
   "cell_type": "code",
   "execution_count": 10,
   "metadata": {},
   "outputs": [
    {
     "data": {
      "text/plain": [
       "(653, 15)"
      ]
     },
     "execution_count": 10,
     "metadata": {},
     "output_type": "execute_result"
    }
   ],
   "source": [
    "X_raw.shape"
   ]
  },
  {
   "cell_type": "code",
   "execution_count": 11,
   "metadata": {},
   "outputs": [
    {
     "data": {
      "text/plain": [
       "1"
      ]
     },
     "execution_count": 11,
     "metadata": {},
     "output_type": "execute_result"
    }
   ],
   "source": [
    "X_raw[0,10]"
   ]
  },
  {
   "cell_type": "code",
   "execution_count": 12,
   "metadata": {},
   "outputs": [],
   "source": [
    "ohe = OneHotEncoder()"
   ]
  },
  {
   "cell_type": "code",
   "execution_count": 13,
   "metadata": {},
   "outputs": [
    {
     "data": {
      "text/plain": [
       "array([['b', 'u', 'g', ..., 't', 'f', 'g'],\n",
       "       ['a', 'u', 'g', ..., 't', 'f', 'g'],\n",
       "       ['a', 'u', 'g', ..., 'f', 'f', 'g'],\n",
       "       ...,\n",
       "       ['a', 'y', 'p', ..., 't', 't', 'g'],\n",
       "       ['b', 'u', 'g', ..., 'f', 'f', 'g'],\n",
       "       ['b', 'u', 'g', ..., 'f', 't', 'g']], dtype=object)"
      ]
     },
     "execution_count": 13,
     "metadata": {},
     "output_type": "execute_result"
    }
   ],
   "source": [
    "X_raw[:,[0,3,4,5,6,8,9,11,12]]"
   ]
  },
  {
   "cell_type": "code",
   "execution_count": 14,
   "metadata": {},
   "outputs": [
    {
     "data": {
      "text/plain": [
       "OneHotEncoder(categorical_features=None, categories=None, drop=None,\n",
       "              dtype=<class 'numpy.float64'>, handle_unknown='error',\n",
       "              n_values=None, sparse=True)"
      ]
     },
     "execution_count": 14,
     "metadata": {},
     "output_type": "execute_result"
    }
   ],
   "source": [
    "ohe.fit(X_raw[:,[0,3,4,5,6,8,9,11,12]])"
   ]
  },
  {
   "cell_type": "code",
   "execution_count": 15,
   "metadata": {},
   "outputs": [
    {
     "data": {
      "text/plain": [
       "[array(['a', 'b'], dtype=object),\n",
       " array(['l', 'u', 'y'], dtype=object),\n",
       " array(['g', 'gg', 'p'], dtype=object),\n",
       " array(['aa', 'c', 'cc', 'd', 'e', 'ff', 'i', 'j', 'k', 'm', 'q', 'r', 'w',\n",
       "        'x'], dtype=object),\n",
       " array(['bb', 'dd', 'ff', 'h', 'j', 'n', 'o', 'v', 'z'], dtype=object),\n",
       " array(['f', 't'], dtype=object),\n",
       " array(['f', 't'], dtype=object),\n",
       " array(['f', 't'], dtype=object),\n",
       " array(['g', 'p', 's'], dtype=object)]"
      ]
     },
     "execution_count": 15,
     "metadata": {},
     "output_type": "execute_result"
    }
   ],
   "source": [
    "ohe.categories_"
   ]
  },
  {
   "cell_type": "code",
   "execution_count": 16,
   "metadata": {},
   "outputs": [],
   "source": [
    "X_categorical = ohe.transform(X_raw[:,[0,3,4,5,6,8,9,11,12]])"
   ]
  },
  {
   "cell_type": "code",
   "execution_count": 17,
   "metadata": {},
   "outputs": [
    {
     "data": {
      "text/plain": [
       "<653x40 sparse matrix of type '<class 'numpy.float64'>'\n",
       "\twith 5877 stored elements in Compressed Sparse Row format>"
      ]
     },
     "execution_count": 17,
     "metadata": {},
     "output_type": "execute_result"
    }
   ],
   "source": [
    "X_categorical"
   ]
  },
  {
   "cell_type": "code",
   "execution_count": 18,
   "metadata": {},
   "outputs": [
    {
     "name": "stdout",
     "output_type": "stream",
     "text": [
      "  (0, 1)\t1.0\n",
      "  (0, 3)\t1.0\n",
      "  (0, 5)\t1.0\n",
      "  (0, 20)\t1.0\n",
      "  (0, 29)\t1.0\n",
      "  (0, 32)\t1.0\n",
      "  (0, 34)\t1.0\n",
      "  (0, 35)\t1.0\n",
      "  (0, 37)\t1.0\n",
      "  (1, 0)\t1.0\n",
      "  (1, 3)\t1.0\n",
      "  (1, 5)\t1.0\n",
      "  (1, 18)\t1.0\n",
      "  (1, 25)\t1.0\n",
      "  (1, 32)\t1.0\n",
      "  (1, 34)\t1.0\n",
      "  (1, 35)\t1.0\n",
      "  (1, 37)\t1.0\n"
     ]
    }
   ],
   "source": [
    "print(X_categorical[:2])"
   ]
  },
  {
   "cell_type": "code",
   "execution_count": 19,
   "metadata": {},
   "outputs": [],
   "source": [
    "X_raw1 = np.array(X_raw[:,[1,2,7,10,13,14]], dtype=np.float64)"
   ]
  },
  {
   "cell_type": "code",
   "execution_count": 20,
   "metadata": {},
   "outputs": [],
   "source": [
    "X_continuous = StandardScaler().fit_transform(X_raw1)"
   ]
  },
  {
   "cell_type": "code",
   "execution_count": 21,
   "metadata": {},
   "outputs": [
    {
     "data": {
      "text/plain": [
       "(653, 6)"
      ]
     },
     "execution_count": 21,
     "metadata": {},
     "output_type": "execute_result"
    }
   ],
   "source": [
    "X_continuous.shape"
   ]
  },
  {
   "cell_type": "code",
   "execution_count": 22,
   "metadata": {},
   "outputs": [],
   "source": [
    "#np.savetxt(\"/Users/babu/Mirror/Python_Programs/Scikit/Data/standard_scaling.csv\",\n",
    "#          X_continuous, delimiter=',') #just check the standardized values"
   ]
  },
  {
   "cell_type": "markdown",
   "metadata": {},
   "source": [
    "# Exploratory data analysis"
   ]
  },
  {
   "cell_type": "code",
   "execution_count": 23,
   "metadata": {},
   "outputs": [
    {
     "data": {
      "image/png": "[encoded data removed]",
      "text/plain": [
       "<Figure size 432x288 with 6 Axes>"
      ]
     },
     "metadata": {
      "needs_background": "light"
     },
     "output_type": "display_data"
    }
   ],
   "source": [
    "plt.subplot(231)\n",
    "plt.boxplot(X_raw1[:,0])\n",
    "plt.subplot(232)\n",
    "plt.boxplot(X_raw1[:,1])\n",
    "plt.subplot(233)\n",
    "plt.boxplot(X_raw1[:,2])\n",
    "plt.subplot(234)\n",
    "plt.boxplot(X_raw1[:,3])\n",
    "plt.subplot(235)\n",
    "plt.boxplot(X_raw1[:,4])\n",
    "plt.subplot(236)\n",
    "plt.boxplot(X_raw1[:,5])\n",
    "plt.show()"
   ]
  },
  {
   "cell_type": "code",
   "execution_count": null,
   "metadata": {},
   "outputs": [],
   "source": []
  },
  {
   "cell_type": "code",
   "execution_count": 24,
   "metadata": {},
   "outputs": [],
   "source": [
    "X = hstack((X_continuous, X_categorical))"
   ]
  },
  {
   "cell_type": "code",
   "execution_count": 25,
   "metadata": {},
   "outputs": [
    {
     "data": {
      "text/plain": [
       "(653, 46)"
      ]
     },
     "execution_count": 25,
     "metadata": {},
     "output_type": "execute_result"
    }
   ],
   "source": [
    "X.shape"
   ]
  },
  {
   "cell_type": "code",
   "execution_count": 26,
   "metadata": {},
   "outputs": [
    {
     "data": {
      "text/plain": [
       "scipy.sparse.coo.coo_matrix"
      ]
     },
     "execution_count": 26,
     "metadata": {},
     "output_type": "execute_result"
    }
   ],
   "source": [
    "type(X)"
   ]
  },
  {
   "cell_type": "code",
   "execution_count": 27,
   "metadata": {},
   "outputs": [],
   "source": [
    "y_raw = np.array(df1['target'])"
   ]
  },
  {
   "cell_type": "code",
   "execution_count": 28,
   "metadata": {},
   "outputs": [],
   "source": [
    "y_raw1 = y_raw[:, np.newaxis]"
   ]
  },
  {
   "cell_type": "code",
   "execution_count": 29,
   "metadata": {},
   "outputs": [
    {
     "data": {
      "text/plain": [
       "(653, 1)"
      ]
     },
     "execution_count": 29,
     "metadata": {},
     "output_type": "execute_result"
    }
   ],
   "source": [
    "y_raw1.shape"
   ]
  },
  {
   "cell_type": "code",
   "execution_count": 30,
   "metadata": {},
   "outputs": [
    {
     "data": {
      "text/plain": [
       "2"
      ]
     },
     "execution_count": 30,
     "metadata": {},
     "output_type": "execute_result"
    }
   ],
   "source": [
    "y_raw1.ndim"
   ]
  },
  {
   "cell_type": "code",
   "execution_count": 153,
   "metadata": {},
   "outputs": [
    {
     "data": {
      "text/plain": [
       "array(['+', '+', '+', '+', '+'], dtype=object)"
      ]
     },
     "execution_count": 153,
     "metadata": {},
     "output_type": "execute_result"
    }
   ],
   "source": [
    "y_raw[:5]"
   ]
  },
  {
   "cell_type": "code",
   "execution_count": 31,
   "metadata": {},
   "outputs": [],
   "source": [
    "oe = OrdinalEncoder(categories=[['-','+']])"
   ]
  },
  {
   "cell_type": "code",
   "execution_count": 32,
   "metadata": {},
   "outputs": [
    {
     "data": {
      "text/plain": [
       "OrdinalEncoder(categories=[['-', '+']], dtype=<class 'numpy.float64'>)"
      ]
     },
     "execution_count": 32,
     "metadata": {},
     "output_type": "execute_result"
    }
   ],
   "source": [
    "oe.fit(y_raw1)"
   ]
  },
  {
   "cell_type": "code",
   "execution_count": 33,
   "metadata": {},
   "outputs": [],
   "source": [
    "y = oe.transform(y_raw1)"
   ]
  },
  {
   "cell_type": "code",
   "execution_count": 34,
   "metadata": {},
   "outputs": [
    {
     "data": {
      "text/plain": [
       "[array(['-', '+'], dtype=object)]"
      ]
     },
     "execution_count": 34,
     "metadata": {},
     "output_type": "execute_result"
    }
   ],
   "source": [
    "oe.categories_"
   ]
  },
  {
   "cell_type": "code",
   "execution_count": 35,
   "metadata": {},
   "outputs": [
    {
     "data": {
      "text/plain": [
       "(653, 1)"
      ]
     },
     "execution_count": 35,
     "metadata": {},
     "output_type": "execute_result"
    }
   ],
   "source": [
    "y.shape"
   ]
  },
  {
   "cell_type": "code",
   "execution_count": 152,
   "metadata": {},
   "outputs": [
    {
     "data": {
      "text/plain": [
       "array([[1.],\n",
       "       [1.],\n",
       "       [1.],\n",
       "       [1.],\n",
       "       [1.]])"
      ]
     },
     "execution_count": 152,
     "metadata": {},
     "output_type": "execute_result"
    }
   ],
   "source": [
    "y[:5]"
   ]
  },
  {
   "cell_type": "code",
   "execution_count": 36,
   "metadata": {},
   "outputs": [],
   "source": [
    "X_train, X_test, y_train, y_test = train_test_split(X,y, test_size=0.25, random_state=1)"
   ]
  },
  {
   "cell_type": "code",
   "execution_count": 37,
   "metadata": {},
   "outputs": [
    {
     "data": {
      "text/plain": [
       "(489, 46)"
      ]
     },
     "execution_count": 37,
     "metadata": {},
     "output_type": "execute_result"
    }
   ],
   "source": [
    "X_train.shape"
   ]
  },
  {
   "cell_type": "markdown",
   "metadata": {},
   "source": [
    "# Decision Tree Classifier"
   ]
  },
  {
   "cell_type": "code",
   "execution_count": 38,
   "metadata": {},
   "outputs": [],
   "source": [
    "cls1 = DecisionTreeClassifier(random_state=1, class_weight='balanced', max_depth=4, min_samples_split=5, min_samples_leaf=1)"
   ]
  },
  {
   "cell_type": "code",
   "execution_count": 39,
   "metadata": {},
   "outputs": [],
   "source": [
    "cls1 = cls1.fit(X_train, y_train)"
   ]
  },
  {
   "cell_type": "code",
   "execution_count": 40,
   "metadata": {},
   "outputs": [
    {
     "data": {
      "text/plain": [
       "0.8475609756097561"
      ]
     },
     "execution_count": 40,
     "metadata": {},
     "output_type": "execute_result"
    }
   ],
   "source": [
    "cls1.score(X_test, y_test)"
   ]
  },
  {
   "cell_type": "code",
   "execution_count": 41,
   "metadata": {},
   "outputs": [],
   "source": [
    "# tree.plot_tree(cls1)"
   ]
  },
  {
   "cell_type": "code",
   "execution_count": 42,
   "metadata": {},
   "outputs": [],
   "source": [
    "import graphviz"
   ]
  },
  {
   "cell_type": "code",
   "execution_count": 43,
   "metadata": {},
   "outputs": [
    {
     "data": {
      "image/svg+xml": [
       "<?xml version=\"1.0\" encoding=\"UTF-8\" standalone=\"no\"?>\n",
       "<!DOCTYPE svg PUBLIC \"-//W3C//DTD SVG 1.1//EN\"\n",
       " \"http://www.w3.org/Graphics/SVG/1.1/DTD/svg11.dtd\">\n",
       "<!-- Generated by graphviz version 2.40.1 (20161225.0304)\n",
       " -->\n",
       "<!-- Title: Tree Pages: 1 -->\n",
       "<svg width=\"1895pt\" height=\"477pt\"\n",
       " viewBox=\"0.00 0.00 1895.00 477.00\" xmlns=\"http://www.w3.org/2000/svg\" xmlns:xlink=\"http://www.w3.org/1999/xlink\">\n",
       "<g id=\"graph0\" class=\"graph\" transform=\"scale(1 1) rotate(0) translate(4 473)\">\n",
       "<title>Tree</title>\n",
       "<polygon fill=\"#ffffff\" stroke=\"transparent\" points=\"-4,4 -4,-473 1891,-473 1891,4 -4,4\"/>\n",
       "<!-- 0 -->\n",
       "<g id=\"node1\" class=\"node\">\n",
       "<title>0</title>\n",
       "<polygon fill=\"none\" stroke=\"#000000\" points=\"1017.5,-469 876.5,-469 876.5,-401 1017.5,-401 1017.5,-469\"/>\n",
       "<text text-anchor=\"middle\" x=\"947\" y=\"-453.8\" font-family=\"Times,serif\" font-size=\"14.00\" fill=\"#000000\">X[38] &lt;= 0.5</text>\n",
       "<text text-anchor=\"middle\" x=\"947\" y=\"-438.8\" font-family=\"Times,serif\" font-size=\"14.00\" fill=\"#000000\">gini = 0.5</text>\n",
       "<text text-anchor=\"middle\" x=\"947\" y=\"-423.8\" font-family=\"Times,serif\" font-size=\"14.00\" fill=\"#000000\">samples = 489</text>\n",
       "<text text-anchor=\"middle\" x=\"947\" y=\"-408.8\" font-family=\"Times,serif\" font-size=\"14.00\" fill=\"#000000\">value = [244.5, 244.5]</text>\n",
       "</g>\n",
       "<!-- 1 -->\n",
       "<g id=\"node2\" class=\"node\">\n",
       "<title>1</title>\n",
       "<polygon fill=\"none\" stroke=\"#000000\" points=\"716,-365 554,-365 554,-297 716,-297 716,-365\"/>\n",
       "<text text-anchor=\"middle\" x=\"635\" y=\"-349.8\" font-family=\"Times,serif\" font-size=\"14.00\" fill=\"#000000\">X[1] &lt;= &#45;0.883</text>\n",
       "<text text-anchor=\"middle\" x=\"635\" y=\"-334.8\" font-family=\"Times,serif\" font-size=\"14.00\" fill=\"#000000\">gini = 0.118</text>\n",
       "<text text-anchor=\"middle\" x=\"635\" y=\"-319.8\" font-family=\"Times,serif\" font-size=\"14.00\" fill=\"#000000\">samples = 219</text>\n",
       "<text text-anchor=\"middle\" x=\"635\" y=\"-304.8\" font-family=\"Times,serif\" font-size=\"14.00\" fill=\"#000000\">value = [193.174, 12.925]</text>\n",
       "</g>\n",
       "<!-- 0&#45;&gt;1 -->\n",
       "<g id=\"edge1\" class=\"edge\">\n",
       "<title>0&#45;&gt;1</title>\n",
       "<path fill=\"none\" stroke=\"#000000\" d=\"M876.2024,-411.4008C831.7127,-396.5709 773.8862,-377.2954 726.0065,-361.3355\"/>\n",
       "<polygon fill=\"#000000\" stroke=\"#000000\" points=\"726.8536,-357.9286 716.2599,-358.0866 724.64,-364.5694 726.8536,-357.9286\"/>\n",
       "<text text-anchor=\"middle\" x=\"727.4403\" y=\"-376.7473\" font-family=\"Times,serif\" font-size=\"14.00\" fill=\"#000000\">True</text>\n",
       "</g>\n",
       "<!-- 14 -->\n",
       "<g id=\"node15\" class=\"node\">\n",
       "<title>14</title>\n",
       "<polygon fill=\"none\" stroke=\"#000000\" points=\"1341,-365 1179,-365 1179,-297 1341,-297 1341,-365\"/>\n",
       "<text text-anchor=\"middle\" x=\"1260\" y=\"-349.8\" font-family=\"Times,serif\" font-size=\"14.00\" fill=\"#000000\">X[3] &lt;= 0.201</text>\n",
       "<text text-anchor=\"middle\" x=\"1260\" y=\"-334.8\" font-family=\"Times,serif\" font-size=\"14.00\" fill=\"#000000\">gini = 0.297</text>\n",
       "<text text-anchor=\"middle\" x=\"1260\" y=\"-319.8\" font-family=\"Times,serif\" font-size=\"14.00\" fill=\"#000000\">samples = 270</text>\n",
       "<text text-anchor=\"middle\" x=\"1260\" y=\"-304.8\" font-family=\"Times,serif\" font-size=\"14.00\" fill=\"#000000\">value = [51.326, 231.575]</text>\n",
       "</g>\n",
       "<!-- 0&#45;&gt;14 -->\n",
       "<g id=\"edge14\" class=\"edge\">\n",
       "<title>0&#45;&gt;14</title>\n",
       "<path fill=\"none\" stroke=\"#000000\" d=\"M1017.6336,-411.5307C1062.5126,-396.6188 1121.0363,-377.1732 1169.3316,-361.1262\"/>\n",
       "<polygon fill=\"#000000\" stroke=\"#000000\" points=\"1170.461,-364.4392 1178.8472,-357.9645 1168.2537,-357.7963 1170.461,-364.4392\"/>\n",
       "<text text-anchor=\"middle\" x=\"1167.6454\" y=\"-376.6145\" font-family=\"Times,serif\" font-size=\"14.00\" fill=\"#000000\">False</text>\n",
       "</g>\n",
       "<!-- 2 -->\n",
       "<g id=\"node3\" class=\"node\">\n",
       "<title>2</title>\n",
       "<polygon fill=\"none\" stroke=\"#000000\" points=\"453,-261 319,-261 319,-193 453,-193 453,-261\"/>\n",
       "<text text-anchor=\"middle\" x=\"386\" y=\"-245.8\" font-family=\"Times,serif\" font-size=\"14.00\" fill=\"#000000\">X[2] &lt;= &#45;0.295</text>\n",
       "<text text-anchor=\"middle\" x=\"386\" y=\"-230.8\" font-family=\"Times,serif\" font-size=\"14.00\" fill=\"#000000\">gini = 0.369</text>\n",
       "<text text-anchor=\"middle\" x=\"386\" y=\"-215.8\" font-family=\"Times,serif\" font-size=\"14.00\" fill=\"#000000\">samples = 32</text>\n",
       "<text text-anchor=\"middle\" x=\"386\" y=\"-200.8\" font-family=\"Times,serif\" font-size=\"14.00\" fill=\"#000000\">value = [23.33, 7.54]</text>\n",
       "</g>\n",
       "<!-- 1&#45;&gt;2 -->\n",
       "<g id=\"edge2\" class=\"edge\">\n",
       "<title>1&#45;&gt;2</title>\n",
       "<path fill=\"none\" stroke=\"#000000\" d=\"M553.8126,-297.0904C524.4867,-284.8419 491.4982,-271.0635 462.5801,-258.9852\"/>\n",
       "<polygon fill=\"#000000\" stroke=\"#000000\" points=\"463.9203,-255.7521 453.3439,-255.1276 461.2224,-262.2113 463.9203,-255.7521\"/>\n",
       "</g>\n",
       "<!-- 7 -->\n",
       "<g id=\"node8\" class=\"node\">\n",
       "<title>7</title>\n",
       "<polygon fill=\"none\" stroke=\"#000000\" points=\"712.5,-261 557.5,-261 557.5,-193 712.5,-193 712.5,-261\"/>\n",
       "<text text-anchor=\"middle\" x=\"635\" y=\"-245.8\" font-family=\"Times,serif\" font-size=\"14.00\" fill=\"#000000\">X[27] &lt;= 0.5</text>\n",
       "<text text-anchor=\"middle\" x=\"635\" y=\"-230.8\" font-family=\"Times,serif\" font-size=\"14.00\" fill=\"#000000\">gini = 0.06</text>\n",
       "<text text-anchor=\"middle\" x=\"635\" y=\"-215.8\" font-family=\"Times,serif\" font-size=\"14.00\" fill=\"#000000\">samples = 187</text>\n",
       "<text text-anchor=\"middle\" x=\"635\" y=\"-200.8\" font-family=\"Times,serif\" font-size=\"14.00\" fill=\"#000000\">value = [169.844, 5.385]</text>\n",
       "</g>\n",
       "<!-- 1&#45;&gt;7 -->\n",
       "<g id=\"edge7\" class=\"edge\">\n",
       "<title>1&#45;&gt;7</title>\n",
       "<path fill=\"none\" stroke=\"#000000\" d=\"M635,-296.9465C635,-288.776 635,-279.9318 635,-271.3697\"/>\n",
       "<polygon fill=\"#000000\" stroke=\"#000000\" points=\"638.5001,-271.13 635,-261.13 631.5001,-271.13 638.5001,-271.13\"/>\n",
       "</g>\n",
       "<!-- 3 -->\n",
       "<g id=\"node4\" class=\"node\">\n",
       "<title>3</title>\n",
       "<polygon fill=\"none\" stroke=\"#000000\" points=\"297,-157 149,-157 149,-89 297,-89 297,-157\"/>\n",
       "<text text-anchor=\"middle\" x=\"223\" y=\"-141.8\" font-family=\"Times,serif\" font-size=\"14.00\" fill=\"#000000\">X[33] &lt;= 0.5</text>\n",
       "<text text-anchor=\"middle\" x=\"223\" y=\"-126.8\" font-family=\"Times,serif\" font-size=\"14.00\" fill=\"#000000\">gini = 0.271</text>\n",
       "<text text-anchor=\"middle\" x=\"223\" y=\"-111.8\" font-family=\"Times,serif\" font-size=\"14.00\" fill=\"#000000\">samples = 28</text>\n",
       "<text text-anchor=\"middle\" x=\"223\" y=\"-96.8\" font-family=\"Times,serif\" font-size=\"14.00\" fill=\"#000000\">value = [22.397, 4.308]</text>\n",
       "</g>\n",
       "<!-- 2&#45;&gt;3 -->\n",
       "<g id=\"edge3\" class=\"edge\">\n",
       "<title>2&#45;&gt;3</title>\n",
       "<path fill=\"none\" stroke=\"#000000\" d=\"M332.6277,-192.9465C317.4298,-183.2497 300.7445,-172.6039 285.0763,-162.6069\"/>\n",
       "<polygon fill=\"#000000\" stroke=\"#000000\" points=\"286.805,-159.5582 276.4922,-157.13 283.0398,-165.4594 286.805,-159.5582\"/>\n",
       "</g>\n",
       "<!-- 6 -->\n",
       "<g id=\"node7\" class=\"node\">\n",
       "<title>6</title>\n",
       "<polygon fill=\"none\" stroke=\"#000000\" points=\"456.5,-149.5 315.5,-149.5 315.5,-96.5 456.5,-96.5 456.5,-149.5\"/>\n",
       "<text text-anchor=\"middle\" x=\"386\" y=\"-134.3\" font-family=\"Times,serif\" font-size=\"14.00\" fill=\"#000000\">gini = 0.348</text>\n",
       "<text text-anchor=\"middle\" x=\"386\" y=\"-119.3\" font-family=\"Times,serif\" font-size=\"14.00\" fill=\"#000000\">samples = 4</text>\n",
       "<text text-anchor=\"middle\" x=\"386\" y=\"-104.3\" font-family=\"Times,serif\" font-size=\"14.00\" fill=\"#000000\">value = [0.933, 3.231]</text>\n",
       "</g>\n",
       "<!-- 2&#45;&gt;6 -->\n",
       "<g id=\"edge6\" class=\"edge\">\n",
       "<title>2&#45;&gt;6</title>\n",
       "<path fill=\"none\" stroke=\"#000000\" d=\"M386,-192.9465C386,-182.2621 386,-170.4254 386,-159.5742\"/>\n",
       "<polygon fill=\"#000000\" stroke=\"#000000\" points=\"389.5001,-159.5421 386,-149.5422 382.5001,-159.5422 389.5001,-159.5421\"/>\n",
       "</g>\n",
       "<!-- 4 -->\n",
       "<g id=\"node5\" class=\"node\">\n",
       "<title>4</title>\n",
       "<polygon fill=\"none\" stroke=\"#000000\" points=\"148,-53 0,-53 0,0 148,0 148,-53\"/>\n",
       "<text text-anchor=\"middle\" x=\"74\" y=\"-37.8\" font-family=\"Times,serif\" font-size=\"14.00\" fill=\"#000000\">gini = 0.22</text>\n",
       "<text text-anchor=\"middle\" x=\"74\" y=\"-22.8\" font-family=\"Times,serif\" font-size=\"14.00\" fill=\"#000000\">samples = 27</text>\n",
       "<text text-anchor=\"middle\" x=\"74\" y=\"-7.8\" font-family=\"Times,serif\" font-size=\"14.00\" fill=\"#000000\">value = [22.397, 3.231]</text>\n",
       "</g>\n",
       "<!-- 3&#45;&gt;4 -->\n",
       "<g id=\"edge4\" class=\"edge\">\n",
       "<title>3&#45;&gt;4</title>\n",
       "<path fill=\"none\" stroke=\"#000000\" d=\"M170.4682,-88.9777C155.3397,-79.1798 138.884,-68.5222 123.9186,-58.8298\"/>\n",
       "<polygon fill=\"#000000\" stroke=\"#000000\" points=\"125.5968,-55.7468 115.3008,-53.2485 121.7916,-61.6222 125.5968,-55.7468\"/>\n",
       "</g>\n",
       "<!-- 5 -->\n",
       "<g id=\"node6\" class=\"node\">\n",
       "<title>5</title>\n",
       "<polygon fill=\"none\" stroke=\"#000000\" points=\"293.5,-53 166.5,-53 166.5,0 293.5,0 293.5,-53\"/>\n",
       "<text text-anchor=\"middle\" x=\"230\" y=\"-37.8\" font-family=\"Times,serif\" font-size=\"14.00\" fill=\"#000000\">gini = 0.0</text>\n",
       "<text text-anchor=\"middle\" x=\"230\" y=\"-22.8\" font-family=\"Times,serif\" font-size=\"14.00\" fill=\"#000000\">samples = 1</text>\n",
       "<text text-anchor=\"middle\" x=\"230\" y=\"-7.8\" font-family=\"Times,serif\" font-size=\"14.00\" fill=\"#000000\">value = [0.0, 1.077]</text>\n",
       "</g>\n",
       "<!-- 3&#45;&gt;5 -->\n",
       "<g id=\"edge5\" class=\"edge\">\n",
       "<title>3&#45;&gt;5</title>\n",
       "<path fill=\"none\" stroke=\"#000000\" d=\"M225.4679,-88.9777C226.0724,-80.6449 226.722,-71.6903 227.3352,-63.2364\"/>\n",
       "<polygon fill=\"#000000\" stroke=\"#000000\" points=\"230.8269,-63.4755 228.0597,-53.2485 223.8453,-62.969 230.8269,-63.4755\"/>\n",
       "</g>\n",
       "<!-- 8 -->\n",
       "<g id=\"node9\" class=\"node\">\n",
       "<title>8</title>\n",
       "<polygon fill=\"none\" stroke=\"#000000\" points=\"629.5,-157 474.5,-157 474.5,-89 629.5,-89 629.5,-157\"/>\n",
       "<text text-anchor=\"middle\" x=\"552\" y=\"-141.8\" font-family=\"Times,serif\" font-size=\"14.00\" fill=\"#000000\">X[2] &lt;= &#45;0.258</text>\n",
       "<text text-anchor=\"middle\" x=\"552\" y=\"-126.8\" font-family=\"Times,serif\" font-size=\"14.00\" fill=\"#000000\">gini = 0.037</text>\n",
       "<text text-anchor=\"middle\" x=\"552\" y=\"-111.8\" font-family=\"Times,serif\" font-size=\"14.00\" fill=\"#000000\">samples = 181</text>\n",
       "<text text-anchor=\"middle\" x=\"552\" y=\"-96.8\" font-family=\"Times,serif\" font-size=\"14.00\" fill=\"#000000\">value = [166.111, 3.231]</text>\n",
       "</g>\n",
       "<!-- 7&#45;&gt;8 -->\n",
       "<g id=\"edge8\" class=\"edge\">\n",
       "<title>7&#45;&gt;8</title>\n",
       "<path fill=\"none\" stroke=\"#000000\" d=\"M607.8227,-192.9465C600.7288,-184.0578 592.9985,-174.3716 585.614,-165.1188\"/>\n",
       "<polygon fill=\"#000000\" stroke=\"#000000\" points=\"588.2118,-162.7628 579.2384,-157.13 582.7406,-167.1293 588.2118,-162.7628\"/>\n",
       "</g>\n",
       "<!-- 11 -->\n",
       "<g id=\"node12\" class=\"node\">\n",
       "<title>11</title>\n",
       "<polygon fill=\"none\" stroke=\"#000000\" points=\"788.5,-157 647.5,-157 647.5,-89 788.5,-89 788.5,-157\"/>\n",
       "<text text-anchor=\"middle\" x=\"718\" y=\"-141.8\" font-family=\"Times,serif\" font-size=\"14.00\" fill=\"#000000\">X[2] &lt;= &#45;0.153</text>\n",
       "<text text-anchor=\"middle\" x=\"718\" y=\"-126.8\" font-family=\"Times,serif\" font-size=\"14.00\" fill=\"#000000\">gini = 0.464</text>\n",
       "<text text-anchor=\"middle\" x=\"718\" y=\"-111.8\" font-family=\"Times,serif\" font-size=\"14.00\" fill=\"#000000\">samples = 6</text>\n",
       "<text text-anchor=\"middle\" x=\"718\" y=\"-96.8\" font-family=\"Times,serif\" font-size=\"14.00\" fill=\"#000000\">value = [3.733, 2.154]</text>\n",
       "</g>\n",
       "<!-- 7&#45;&gt;11 -->\n",
       "<g id=\"edge11\" class=\"edge\">\n",
       "<title>7&#45;&gt;11</title>\n",
       "<path fill=\"none\" stroke=\"#000000\" d=\"M662.1773,-192.9465C669.2712,-184.0578 677.0015,-174.3716 684.386,-165.1188\"/>\n",
       "<polygon fill=\"#000000\" stroke=\"#000000\" points=\"687.2594,-167.1293 690.7616,-157.13 681.7882,-162.7628 687.2594,-167.1293\"/>\n",
       "</g>\n",
       "<!-- 9 -->\n",
       "<g id=\"node10\" class=\"node\">\n",
       "<title>9</title>\n",
       "<polygon fill=\"none\" stroke=\"#000000\" points=\"459.5,-53 318.5,-53 318.5,0 459.5,0 459.5,-53\"/>\n",
       "<text text-anchor=\"middle\" x=\"389\" y=\"-37.8\" font-family=\"Times,serif\" font-size=\"14.00\" fill=\"#000000\">gini = &#45;0.0</text>\n",
       "<text text-anchor=\"middle\" x=\"389\" y=\"-22.8\" font-family=\"Times,serif\" font-size=\"14.00\" fill=\"#000000\">samples = 135</text>\n",
       "<text text-anchor=\"middle\" x=\"389\" y=\"-7.8\" font-family=\"Times,serif\" font-size=\"14.00\" fill=\"#000000\">value = [125.983, 0.0]</text>\n",
       "</g>\n",
       "<!-- 8&#45;&gt;9 -->\n",
       "<g id=\"edge9\" class=\"edge\">\n",
       "<title>8&#45;&gt;9</title>\n",
       "<path fill=\"none\" stroke=\"#000000\" d=\"M494.5323,-88.9777C477.7504,-79.0424 459.4754,-68.2232 442.9214,-58.4228\"/>\n",
       "<polygon fill=\"#000000\" stroke=\"#000000\" points=\"444.3103,-55.1777 433.9222,-53.095 440.7442,-61.2013 444.3103,-55.1777\"/>\n",
       "</g>\n",
       "<!-- 10 -->\n",
       "<g id=\"node11\" class=\"node\">\n",
       "<title>10</title>\n",
       "<polygon fill=\"none\" stroke=\"#000000\" points=\"626,-53 478,-53 478,0 626,0 626,-53\"/>\n",
       "<text text-anchor=\"middle\" x=\"552\" y=\"-37.8\" font-family=\"Times,serif\" font-size=\"14.00\" fill=\"#000000\">gini = 0.138</text>\n",
       "<text text-anchor=\"middle\" x=\"552\" y=\"-22.8\" font-family=\"Times,serif\" font-size=\"14.00\" fill=\"#000000\">samples = 46</text>\n",
       "<text text-anchor=\"middle\" x=\"552\" y=\"-7.8\" font-family=\"Times,serif\" font-size=\"14.00\" fill=\"#000000\">value = [40.128, 3.231]</text>\n",
       "</g>\n",
       "<!-- 8&#45;&gt;10 -->\n",
       "<g id=\"edge10\" class=\"edge\">\n",
       "<title>8&#45;&gt;10</title>\n",
       "<path fill=\"none\" stroke=\"#000000\" d=\"M552,-88.9777C552,-80.7364 552,-71.887 552,-63.5153\"/>\n",
       "<polygon fill=\"#000000\" stroke=\"#000000\" points=\"555.5001,-63.2484 552,-53.2485 548.5001,-63.2485 555.5001,-63.2484\"/>\n",
       "</g>\n",
       "<!-- 12 -->\n",
       "<g id=\"node13\" class=\"node\">\n",
       "<title>12</title>\n",
       "<polygon fill=\"none\" stroke=\"#000000\" points=\"771.5,-53 644.5,-53 644.5,0 771.5,0 771.5,-53\"/>\n",
       "<text text-anchor=\"middle\" x=\"708\" y=\"-37.8\" font-family=\"Times,serif\" font-size=\"14.00\" fill=\"#000000\">gini = 0.0</text>\n",
       "<text text-anchor=\"middle\" x=\"708\" y=\"-22.8\" font-family=\"Times,serif\" font-size=\"14.00\" fill=\"#000000\">samples = 4</text>\n",
       "<text text-anchor=\"middle\" x=\"708\" y=\"-7.8\" font-family=\"Times,serif\" font-size=\"14.00\" fill=\"#000000\">value = [3.733, 0.0]</text>\n",
       "</g>\n",
       "<!-- 11&#45;&gt;12 -->\n",
       "<g id=\"edge12\" class=\"edge\">\n",
       "<title>11&#45;&gt;12</title>\n",
       "<path fill=\"none\" stroke=\"#000000\" d=\"M714.4744,-88.9777C713.6109,-80.6449 712.6829,-71.6903 711.8069,-63.2364\"/>\n",
       "<polygon fill=\"#000000\" stroke=\"#000000\" points=\"715.2841,-62.8344 710.7719,-53.2485 708.3213,-63.556 715.2841,-62.8344\"/>\n",
       "</g>\n",
       "<!-- 13 -->\n",
       "<g id=\"node14\" class=\"node\">\n",
       "<title>13</title>\n",
       "<polygon fill=\"none\" stroke=\"#000000\" points=\"916.5,-53 789.5,-53 789.5,0 916.5,0 916.5,-53\"/>\n",
       "<text text-anchor=\"middle\" x=\"853\" y=\"-37.8\" font-family=\"Times,serif\" font-size=\"14.00\" fill=\"#000000\">gini = 0.0</text>\n",
       "<text text-anchor=\"middle\" x=\"853\" y=\"-22.8\" font-family=\"Times,serif\" font-size=\"14.00\" fill=\"#000000\">samples = 2</text>\n",
       "<text text-anchor=\"middle\" x=\"853\" y=\"-7.8\" font-family=\"Times,serif\" font-size=\"14.00\" fill=\"#000000\">value = [0.0, 2.154]</text>\n",
       "</g>\n",
       "<!-- 11&#45;&gt;13 -->\n",
       "<g id=\"edge13\" class=\"edge\">\n",
       "<title>11&#45;&gt;13</title>\n",
       "<path fill=\"none\" stroke=\"#000000\" d=\"M765.5959,-88.9777C779.1748,-79.2713 793.9339,-68.7213 807.3912,-59.1018\"/>\n",
       "<polygon fill=\"#000000\" stroke=\"#000000\" points=\"809.4799,-61.9111 815.5798,-53.2485 805.4092,-56.2164 809.4799,-61.9111\"/>\n",
       "</g>\n",
       "<!-- 15 -->\n",
       "<g id=\"node16\" class=\"node\">\n",
       "<title>15</title>\n",
       "<polygon fill=\"none\" stroke=\"#000000\" points=\"1341,-261 1179,-261 1179,-193 1341,-193 1341,-261\"/>\n",
       "<text text-anchor=\"middle\" x=\"1260\" y=\"-245.8\" font-family=\"Times,serif\" font-size=\"14.00\" fill=\"#000000\">X[5] &lt;= &#45;0.093</text>\n",
       "<text text-anchor=\"middle\" x=\"1260\" y=\"-230.8\" font-family=\"Times,serif\" font-size=\"14.00\" fill=\"#000000\">gini = 0.396</text>\n",
       "<text text-anchor=\"middle\" x=\"1260\" y=\"-215.8\" font-family=\"Times,serif\" font-size=\"14.00\" fill=\"#000000\">samples = 169</text>\n",
       "<text text-anchor=\"middle\" x=\"1260\" y=\"-200.8\" font-family=\"Times,serif\" font-size=\"14.00\" fill=\"#000000\">value = [47.594, 127.097]</text>\n",
       "</g>\n",
       "<!-- 14&#45;&gt;15 -->\n",
       "<g id=\"edge15\" class=\"edge\">\n",
       "<title>14&#45;&gt;15</title>\n",
       "<path fill=\"none\" stroke=\"#000000\" d=\"M1260,-296.9465C1260,-288.776 1260,-279.9318 1260,-271.3697\"/>\n",
       "<polygon fill=\"#000000\" stroke=\"#000000\" points=\"1263.5001,-271.13 1260,-261.13 1256.5001,-271.13 1263.5001,-271.13\"/>\n",
       "</g>\n",
       "<!-- 22 -->\n",
       "<g id=\"node23\" class=\"node\">\n",
       "<title>22</title>\n",
       "<polygon fill=\"none\" stroke=\"#000000\" points=\"1724.5,-261 1569.5,-261 1569.5,-193 1724.5,-193 1724.5,-261\"/>\n",
       "<text text-anchor=\"middle\" x=\"1647\" y=\"-245.8\" font-family=\"Times,serif\" font-size=\"14.00\" fill=\"#000000\">X[36] &lt;= 0.5</text>\n",
       "<text text-anchor=\"middle\" x=\"1647\" y=\"-230.8\" font-family=\"Times,serif\" font-size=\"14.00\" fill=\"#000000\">gini = 0.067</text>\n",
       "<text text-anchor=\"middle\" x=\"1647\" y=\"-215.8\" font-family=\"Times,serif\" font-size=\"14.00\" fill=\"#000000\">samples = 101</text>\n",
       "<text text-anchor=\"middle\" x=\"1647\" y=\"-200.8\" font-family=\"Times,serif\" font-size=\"14.00\" fill=\"#000000\">value = [3.733, 104.478]</text>\n",
       "</g>\n",
       "<!-- 14&#45;&gt;22 -->\n",
       "<g id=\"edge22\" class=\"edge\">\n",
       "<title>14&#45;&gt;22</title>\n",
       "<path fill=\"none\" stroke=\"#000000\" d=\"M1341.1279,-309.1982C1405.0063,-292.0319 1493.888,-268.1464 1559.384,-250.5454\"/>\n",
       "<polygon fill=\"#000000\" stroke=\"#000000\" points=\"1560.5303,-253.8616 1569.2793,-247.8862 1558.7135,-247.1015 1560.5303,-253.8616\"/>\n",
       "</g>\n",
       "<!-- 16 -->\n",
       "<g id=\"node17\" class=\"node\">\n",
       "<title>16</title>\n",
       "<polygon fill=\"none\" stroke=\"#000000\" points=\"1251,-157 1103,-157 1103,-89 1251,-89 1251,-157\"/>\n",
       "<text text-anchor=\"middle\" x=\"1177\" y=\"-141.8\" font-family=\"Times,serif\" font-size=\"14.00\" fill=\"#000000\">X[4] &lt;= &#45;0.641</text>\n",
       "<text text-anchor=\"middle\" x=\"1177\" y=\"-126.8\" font-family=\"Times,serif\" font-size=\"14.00\" fill=\"#000000\">gini = 0.442</text>\n",
       "<text text-anchor=\"middle\" x=\"1177\" y=\"-111.8\" font-family=\"Times,serif\" font-size=\"14.00\" fill=\"#000000\">samples = 138</text>\n",
       "<text text-anchor=\"middle\" x=\"1177\" y=\"-96.8\" font-family=\"Times,serif\" font-size=\"14.00\" fill=\"#000000\">value = [46.66, 94.784]</text>\n",
       "</g>\n",
       "<!-- 15&#45;&gt;16 -->\n",
       "<g id=\"edge16\" class=\"edge\">\n",
       "<title>15&#45;&gt;16</title>\n",
       "<path fill=\"none\" stroke=\"#000000\" d=\"M1232.8227,-192.9465C1225.7288,-184.0578 1217.9985,-174.3716 1210.614,-165.1188\"/>\n",
       "<polygon fill=\"#000000\" stroke=\"#000000\" points=\"1213.2118,-162.7628 1204.2384,-157.13 1207.7406,-167.1293 1213.2118,-162.7628\"/>\n",
       "</g>\n",
       "<!-- 19 -->\n",
       "<g id=\"node20\" class=\"node\">\n",
       "<title>19</title>\n",
       "<polygon fill=\"none\" stroke=\"#000000\" points=\"1417,-157 1269,-157 1269,-89 1417,-89 1417,-157\"/>\n",
       "<text text-anchor=\"middle\" x=\"1343\" y=\"-141.8\" font-family=\"Times,serif\" font-size=\"14.00\" fill=\"#000000\">X[0] &lt;= 2.116</text>\n",
       "<text text-anchor=\"middle\" x=\"1343\" y=\"-126.8\" font-family=\"Times,serif\" font-size=\"14.00\" fill=\"#000000\">gini = 0.055</text>\n",
       "<text text-anchor=\"middle\" x=\"1343\" y=\"-111.8\" font-family=\"Times,serif\" font-size=\"14.00\" fill=\"#000000\">samples = 31</text>\n",
       "<text text-anchor=\"middle\" x=\"1343\" y=\"-96.8\" font-family=\"Times,serif\" font-size=\"14.00\" fill=\"#000000\">value = [0.933, 32.313]</text>\n",
       "</g>\n",
       "<!-- 15&#45;&gt;19 -->\n",
       "<g id=\"edge19\" class=\"edge\">\n",
       "<title>15&#45;&gt;19</title>\n",
       "<path fill=\"none\" stroke=\"#000000\" d=\"M1287.1773,-192.9465C1294.2712,-184.0578 1302.0015,-174.3716 1309.386,-165.1188\"/>\n",
       "<polygon fill=\"#000000\" stroke=\"#000000\" points=\"1312.2594,-167.1293 1315.7616,-157.13 1306.7882,-162.7628 1312.2594,-167.1293\"/>\n",
       "</g>\n",
       "<!-- 17 -->\n",
       "<g id=\"node18\" class=\"node\">\n",
       "<title>17</title>\n",
       "<polygon fill=\"none\" stroke=\"#000000\" points=\"1083,-53 935,-53 935,0 1083,0 1083,-53\"/>\n",
       "<text text-anchor=\"middle\" x=\"1009\" y=\"-37.8\" font-family=\"Times,serif\" font-size=\"14.00\" fill=\"#000000\">gini = 0.196</text>\n",
       "<text text-anchor=\"middle\" x=\"1009\" y=\"-22.8\" font-family=\"Times,serif\" font-size=\"14.00\" fill=\"#000000\">samples = 32</text>\n",
       "<text text-anchor=\"middle\" x=\"1009\" y=\"-7.8\" font-family=\"Times,serif\" font-size=\"14.00\" fill=\"#000000\">value = [3.733, 30.159]</text>\n",
       "</g>\n",
       "<!-- 16&#45;&gt;17 -->\n",
       "<g id=\"edge17\" class=\"edge\">\n",
       "<title>16&#45;&gt;17</title>\n",
       "<path fill=\"none\" stroke=\"#000000\" d=\"M1117.7695,-88.9777C1100.3126,-78.9504 1081.2883,-68.0228 1064.1019,-58.1508\"/>\n",
       "<polygon fill=\"#000000\" stroke=\"#000000\" points=\"1065.7148,-55.041 1055.3002,-53.095 1062.2281,-61.1109 1065.7148,-55.041\"/>\n",
       "</g>\n",
       "<!-- 18 -->\n",
       "<g id=\"node19\" class=\"node\">\n",
       "<title>18</title>\n",
       "<polygon fill=\"none\" stroke=\"#000000\" points=\"1256.5,-53 1101.5,-53 1101.5,0 1256.5,0 1256.5,-53\"/>\n",
       "<text text-anchor=\"middle\" x=\"1179\" y=\"-37.8\" font-family=\"Times,serif\" font-size=\"14.00\" fill=\"#000000\">gini = 0.48</text>\n",
       "<text text-anchor=\"middle\" x=\"1179\" y=\"-22.8\" font-family=\"Times,serif\" font-size=\"14.00\" fill=\"#000000\">samples = 106</text>\n",
       "<text text-anchor=\"middle\" x=\"1179\" y=\"-7.8\" font-family=\"Times,serif\" font-size=\"14.00\" fill=\"#000000\">value = [42.927, 64.626]</text>\n",
       "</g>\n",
       "<!-- 16&#45;&gt;18 -->\n",
       "<g id=\"edge18\" class=\"edge\">\n",
       "<title>16&#45;&gt;18</title>\n",
       "<path fill=\"none\" stroke=\"#000000\" d=\"M1177.7051,-88.9777C1177.8759,-80.7364 1178.0593,-71.887 1178.2328,-63.5153\"/>\n",
       "<polygon fill=\"#000000\" stroke=\"#000000\" points=\"1181.7376,-63.3189 1178.4456,-53.2485 1174.7391,-63.1738 1181.7376,-63.3189\"/>\n",
       "</g>\n",
       "<!-- 20 -->\n",
       "<g id=\"node21\" class=\"node\">\n",
       "<title>20</title>\n",
       "<polygon fill=\"none\" stroke=\"#000000\" points=\"1409,-53 1275,-53 1275,0 1409,0 1409,-53\"/>\n",
       "<text text-anchor=\"middle\" x=\"1342\" y=\"-37.8\" font-family=\"Times,serif\" font-size=\"14.00\" fill=\"#000000\">gini = 0.0</text>\n",
       "<text text-anchor=\"middle\" x=\"1342\" y=\"-22.8\" font-family=\"Times,serif\" font-size=\"14.00\" fill=\"#000000\">samples = 30</text>\n",
       "<text text-anchor=\"middle\" x=\"1342\" y=\"-7.8\" font-family=\"Times,serif\" font-size=\"14.00\" fill=\"#000000\">value = [0.0, 32.313]</text>\n",
       "</g>\n",
       "<!-- 19&#45;&gt;20 -->\n",
       "<g id=\"edge20\" class=\"edge\">\n",
       "<title>19&#45;&gt;20</title>\n",
       "<path fill=\"none\" stroke=\"#000000\" d=\"M1342.6474,-88.9777C1342.562,-80.7364 1342.4703,-71.887 1342.3836,-63.5153\"/>\n",
       "<polygon fill=\"#000000\" stroke=\"#000000\" points=\"1345.8807,-63.2116 1342.2772,-53.2485 1338.8811,-63.2842 1345.8807,-63.2116\"/>\n",
       "</g>\n",
       "<!-- 21 -->\n",
       "<g id=\"node22\" class=\"node\">\n",
       "<title>21</title>\n",
       "<polygon fill=\"none\" stroke=\"#000000\" points=\"1554.5,-53 1427.5,-53 1427.5,0 1554.5,0 1554.5,-53\"/>\n",
       "<text text-anchor=\"middle\" x=\"1491\" y=\"-37.8\" font-family=\"Times,serif\" font-size=\"14.00\" fill=\"#000000\">gini = 0.0</text>\n",
       "<text text-anchor=\"middle\" x=\"1491\" y=\"-22.8\" font-family=\"Times,serif\" font-size=\"14.00\" fill=\"#000000\">samples = 1</text>\n",
       "<text text-anchor=\"middle\" x=\"1491\" y=\"-7.8\" font-family=\"Times,serif\" font-size=\"14.00\" fill=\"#000000\">value = [0.933, 0.0]</text>\n",
       "</g>\n",
       "<!-- 19&#45;&gt;21 -->\n",
       "<g id=\"edge21\" class=\"edge\">\n",
       "<title>19&#45;&gt;21</title>\n",
       "<path fill=\"none\" stroke=\"#000000\" d=\"M1395.1793,-88.9777C1410.2062,-79.1798 1426.5515,-68.5222 1441.4164,-58.8298\"/>\n",
       "<polygon fill=\"#000000\" stroke=\"#000000\" points=\"1443.5114,-61.6422 1449.9764,-53.2485 1439.6881,-55.7785 1443.5114,-61.6422\"/>\n",
       "</g>\n",
       "<!-- 23 -->\n",
       "<g id=\"node24\" class=\"node\">\n",
       "<title>23</title>\n",
       "<polygon fill=\"none\" stroke=\"#000000\" points=\"1717.5,-157 1576.5,-157 1576.5,-89 1717.5,-89 1717.5,-157\"/>\n",
       "<text text-anchor=\"middle\" x=\"1647\" y=\"-141.8\" font-family=\"Times,serif\" font-size=\"14.00\" fill=\"#000000\">X[10] &lt;= 0.5</text>\n",
       "<text text-anchor=\"middle\" x=\"1647\" y=\"-126.8\" font-family=\"Times,serif\" font-size=\"14.00\" fill=\"#000000\">gini = 0.052</text>\n",
       "<text text-anchor=\"middle\" x=\"1647\" y=\"-111.8\" font-family=\"Times,serif\" font-size=\"14.00\" fill=\"#000000\">samples = 98</text>\n",
       "<text text-anchor=\"middle\" x=\"1647\" y=\"-96.8\" font-family=\"Times,serif\" font-size=\"14.00\" fill=\"#000000\">value = [2.8, 102.324]</text>\n",
       "</g>\n",
       "<!-- 22&#45;&gt;23 -->\n",
       "<g id=\"edge23\" class=\"edge\">\n",
       "<title>22&#45;&gt;23</title>\n",
       "<path fill=\"none\" stroke=\"#000000\" d=\"M1647,-192.9465C1647,-184.776 1647,-175.9318 1647,-167.3697\"/>\n",
       "<polygon fill=\"#000000\" stroke=\"#000000\" points=\"1650.5001,-167.13 1647,-157.13 1643.5001,-167.13 1650.5001,-167.13\"/>\n",
       "</g>\n",
       "<!-- 26 -->\n",
       "<g id=\"node27\" class=\"node\">\n",
       "<title>26</title>\n",
       "<polygon fill=\"none\" stroke=\"#000000\" points=\"1876.5,-149.5 1735.5,-149.5 1735.5,-96.5 1876.5,-96.5 1876.5,-149.5\"/>\n",
       "<text text-anchor=\"middle\" x=\"1806\" y=\"-134.3\" font-family=\"Times,serif\" font-size=\"14.00\" fill=\"#000000\">gini = 0.422</text>\n",
       "<text text-anchor=\"middle\" x=\"1806\" y=\"-119.3\" font-family=\"Times,serif\" font-size=\"14.00\" fill=\"#000000\">samples = 3</text>\n",
       "<text text-anchor=\"middle\" x=\"1806\" y=\"-104.3\" font-family=\"Times,serif\" font-size=\"14.00\" fill=\"#000000\">value = [0.933, 2.154]</text>\n",
       "</g>\n",
       "<!-- 22&#45;&gt;26 -->\n",
       "<g id=\"edge26\" class=\"edge\">\n",
       "<title>22&#45;&gt;26</title>\n",
       "<path fill=\"none\" stroke=\"#000000\" d=\"M1699.0625,-192.9465C1717.5866,-180.8301 1738.376,-167.232 1756.6648,-155.2696\"/>\n",
       "<polygon fill=\"#000000\" stroke=\"#000000\" points=\"1758.9682,-157.9452 1765.4211,-149.5422 1755.1364,-152.087 1758.9682,-157.9452\"/>\n",
       "</g>\n",
       "<!-- 24 -->\n",
       "<g id=\"node25\" class=\"node\">\n",
       "<title>24</title>\n",
       "<polygon fill=\"none\" stroke=\"#000000\" points=\"1721,-53 1573,-53 1573,0 1721,0 1721,-53\"/>\n",
       "<text text-anchor=\"middle\" x=\"1647\" y=\"-37.8\" font-family=\"Times,serif\" font-size=\"14.00\" fill=\"#000000\">gini = 0.02</text>\n",
       "<text text-anchor=\"middle\" x=\"1647\" y=\"-22.8\" font-family=\"Times,serif\" font-size=\"14.00\" fill=\"#000000\">samples = 84</text>\n",
       "<text text-anchor=\"middle\" x=\"1647\" y=\"-7.8\" font-family=\"Times,serif\" font-size=\"14.00\" fill=\"#000000\">value = [0.933, 89.399]</text>\n",
       "</g>\n",
       "<!-- 23&#45;&gt;24 -->\n",
       "<g id=\"edge24\" class=\"edge\">\n",
       "<title>23&#45;&gt;24</title>\n",
       "<path fill=\"none\" stroke=\"#000000\" d=\"M1647,-88.9777C1647,-80.7364 1647,-71.887 1647,-63.5153\"/>\n",
       "<polygon fill=\"#000000\" stroke=\"#000000\" points=\"1650.5001,-63.2484 1647,-53.2485 1643.5001,-63.2485 1650.5001,-63.2484\"/>\n",
       "</g>\n",
       "<!-- 25 -->\n",
       "<g id=\"node26\" class=\"node\">\n",
       "<title>25</title>\n",
       "<polygon fill=\"none\" stroke=\"#000000\" points=\"1887,-53 1739,-53 1739,0 1887,0 1887,-53\"/>\n",
       "<text text-anchor=\"middle\" x=\"1813\" y=\"-37.8\" font-family=\"Times,serif\" font-size=\"14.00\" fill=\"#000000\">gini = 0.221</text>\n",
       "<text text-anchor=\"middle\" x=\"1813\" y=\"-22.8\" font-family=\"Times,serif\" font-size=\"14.00\" fill=\"#000000\">samples = 14</text>\n",
       "<text text-anchor=\"middle\" x=\"1813\" y=\"-7.8\" font-family=\"Times,serif\" font-size=\"14.00\" fill=\"#000000\">value = [1.866, 12.925]</text>\n",
       "</g>\n",
       "<!-- 23&#45;&gt;25 -->\n",
       "<g id=\"edge25\" class=\"edge\">\n",
       "<title>23&#45;&gt;25</title>\n",
       "<path fill=\"none\" stroke=\"#000000\" d=\"M1705.5254,-88.9777C1722.7744,-78.9504 1741.5723,-68.0228 1758.554,-58.1508\"/>\n",
       "<polygon fill=\"#000000\" stroke=\"#000000\" points=\"1760.3647,-61.1467 1767.251,-53.095 1756.8467,-55.095 1760.3647,-61.1467\"/>\n",
       "</g>\n",
       "</g>\n",
       "</svg>\n"
      ],
      "text/plain": [
       "<graphviz.files.Source at 0x1a2327af90>"
      ]
     },
     "execution_count": 43,
     "metadata": {},
     "output_type": "execute_result"
    }
   ],
   "source": [
    "dot_data = tree.export_graphviz(cls1, out_file=None)\n",
    "graph = graphviz.Source(dot_data)\n",
    "graph"
   ]
  },
  {
   "cell_type": "code",
   "execution_count": 44,
   "metadata": {},
   "outputs": [
    {
     "data": {
      "text/plain": [
       "<Figure size 432x288 with 0 Axes>"
      ]
     },
     "execution_count": 44,
     "metadata": {},
     "output_type": "execute_result"
    },
    {
     "data": {
      "text/plain": [
       "<Figure size 432x288 with 0 Axes>"
      ]
     },
     "metadata": {},
     "output_type": "display_data"
    }
   ],
   "source": [
    "plt.figure()"
   ]
  },
  {
   "cell_type": "code",
   "execution_count": 45,
   "metadata": {},
   "outputs": [
    {
     "data": {
      "image/png": "[encoded data removed]",
      "text/plain": [
       "<Figure size 432x288 with 1 Axes>"
      ]
     },
     "metadata": {
      "needs_background": "light"
     },
     "output_type": "display_data"
    }
   ],
   "source": [
    "tree.plot_tree(cls1, filled=True)\n",
    "plt.show()"
   ]
  },
  {
   "cell_type": "code",
   "execution_count": 46,
   "metadata": {},
   "outputs": [
    {
     "data": {
      "text/plain": [
       "46"
      ]
     },
     "execution_count": 46,
     "metadata": {},
     "output_type": "execute_result"
    }
   ],
   "source": [
    "cls1.n_features_"
   ]
  },
  {
   "cell_type": "code",
   "execution_count": 47,
   "metadata": {},
   "outputs": [
    {
     "data": {
      "text/plain": [
       "<sklearn.tree._tree.Tree at 0x1a231925e0>"
      ]
     },
     "execution_count": 47,
     "metadata": {},
     "output_type": "execute_result"
    }
   ],
   "source": [
    "cls1.tree_"
   ]
  },
  {
   "cell_type": "code",
   "execution_count": 48,
   "metadata": {},
   "outputs": [
    {
     "data": {
      "text/plain": [
       "27"
      ]
     },
     "execution_count": 48,
     "metadata": {},
     "output_type": "execute_result"
    }
   ],
   "source": [
    "cls1.tree_.node_count # Number of nodes in the tree"
   ]
  },
  {
   "cell_type": "code",
   "execution_count": 49,
   "metadata": {},
   "outputs": [
    {
     "data": {
      "text/plain": [
       "array([ 1,  2,  3,  4, -1, -1, -1,  8,  9, -1, -1, 12, -1, -1, 15, 16, 17,\n",
       "       -1, -1, 20, -1, -1, 23, 24, -1, -1, -1])"
      ]
     },
     "execution_count": 49,
     "metadata": {},
     "output_type": "execute_result"
    }
   ],
   "source": [
    "cls1.tree_.children_left # id of the left child nodes"
   ]
  },
  {
   "cell_type": "code",
   "execution_count": 50,
   "metadata": {},
   "outputs": [
    {
     "data": {
      "text/plain": [
       "array([14,  7,  6,  5, -1, -1, -1, 11, 10, -1, -1, 13, -1, -1, 22, 19, 18,\n",
       "       -1, -1, 21, -1, -1, 26, 25, -1, -1, -1])"
      ]
     },
     "execution_count": 50,
     "metadata": {},
     "output_type": "execute_result"
    }
   ],
   "source": [
    "cls1.tree_.children_right # id of the right child nodes"
   ]
  },
  {
   "cell_type": "code",
   "execution_count": 51,
   "metadata": {},
   "outputs": [
    {
     "data": {
      "text/plain": [
       "array([38,  1,  2, 33, -2, -2, -2, 27,  2, -2, -2,  2, -2, -2,  3,  5,  4,\n",
       "       -2, -2,  0, -2, -2, 36, 10, -2, -2, -2])"
      ]
     },
     "execution_count": 51,
     "metadata": {},
     "output_type": "execute_result"
    }
   ],
   "source": [
    "cls1.tree_.feature # feature used for splitting the node"
   ]
  },
  {
   "cell_type": "code",
   "execution_count": 52,
   "metadata": {},
   "outputs": [
    {
     "data": {
      "text/plain": [
       "array([ 0.5       , -0.88280565, -0.29517125,  0.5       , -2.        ,\n",
       "       -2.        , -2.        ,  0.5       , -0.25806315, -2.        ,\n",
       "       -2.        , -0.15267619, -2.        , -2.        ,  0.20095971,\n",
       "       -0.09301532, -0.6413821 , -2.        , -2.        ,  2.11647344,\n",
       "       -2.        , -2.        ,  0.5       ,  0.5       , -2.        ,\n",
       "       -2.        , -2.        ])"
      ]
     },
     "execution_count": 52,
     "metadata": {},
     "output_type": "execute_result"
    }
   ],
   "source": [
    "cls1.tree_.threshold # threshold value at the node"
   ]
  },
  {
   "cell_type": "code",
   "execution_count": 53,
   "metadata": {},
   "outputs": [
    {
     "data": {
      "text/plain": [
       "14"
      ]
     },
     "execution_count": 53,
     "metadata": {},
     "output_type": "execute_result"
    }
   ],
   "source": [
    "cls1.get_n_leaves()"
   ]
  },
  {
   "cell_type": "code",
   "execution_count": 54,
   "metadata": {},
   "outputs": [
    {
     "data": {
      "text/plain": [
       "4"
      ]
     },
     "execution_count": 54,
     "metadata": {},
     "output_type": "execute_result"
    }
   ],
   "source": [
    "cls1.get_depth()"
   ]
  },
  {
   "cell_type": "code",
   "execution_count": 55,
   "metadata": {},
   "outputs": [
    {
     "data": {
      "text/plain": [
       "array([24, 10, 10,  9, 24,  9,  9,  9, 24, 18, 17, 20,  9, 18,  9, 18, 24,\n",
       "        9, 24, 10, 24, 24,  9,  9, 24, 20,  9,  9, 18, 18, 20, 10, 18, 18,\n",
       "        9, 24,  9, 10,  9,  4, 18,  9, 18,  4,  9,  4, 24,  9,  9, 24, 18,\n",
       "       10,  9, 24,  9, 10, 25, 24, 10,  4, 24,  9,  4,  9, 18, 20, 20,  9,\n",
       "        6, 24,  9, 24,  9, 18, 10, 10,  9, 24, 18, 24,  4, 25,  9, 18, 24,\n",
       "        9,  9,  9, 18, 17, 24, 20, 18,  9, 18,  9,  9, 24,  4, 24, 20,  9,\n",
       "       20,  4, 25, 18, 17, 18, 18,  9, 24,  9,  9,  9, 24, 10, 24,  9,  9,\n",
       "       10, 20, 24, 24,  9,  9,  9, 20, 24, 18, 21, 10,  9, 18, 10, 26,  9,\n",
       "        9,  4, 17,  9, 24,  6, 24, 17,  9,  9, 10, 10,  9, 18, 10, 10, 24,\n",
       "       18,  9,  9, 24, 24, 20, 10, 10,  9, 24, 10])"
      ]
     },
     "execution_count": 55,
     "metadata": {},
     "output_type": "execute_result"
    }
   ],
   "source": [
    "cls1.apply(X_test) # index of the leaf where each sample ends up"
   ]
  },
  {
   "cell_type": "code",
   "execution_count": 56,
   "metadata": {},
   "outputs": [
    {
     "name": "stdout",
     "output_type": "stream",
     "text": [
      "  (0, 0)\t1\n",
      "  (0, 14)\t1\n",
      "  (0, 15)\t1\n",
      "  (0, 16)\t1\n",
      "  (0, 17)\t1\n"
     ]
    }
   ],
   "source": [
    "print(cls1.decision_path(X_test[10])) # decision path in the tree for the given sample"
   ]
  },
  {
   "cell_type": "code",
   "execution_count": 57,
   "metadata": {
    "collapsed": true
   },
   "outputs": [
    {
     "data": {
      "text/plain": [
       "array([[0.01033086, 0.98966914],\n",
       "       [0.92547644, 0.07452356],\n",
       "       [0.92547644, 0.07452356],\n",
       "       [1.        , 0.        ],\n",
       "       [0.01033086, 0.98966914],\n",
       "       [1.        , 0.        ],\n",
       "       [1.        , 0.        ],\n",
       "       [1.        , 0.        ],\n",
       "       [0.01033086, 0.98966914],\n",
       "       [0.39912851, 0.60087149],\n",
       "       [0.11014071, 0.88985929],\n",
       "       [0.        , 1.        ],\n",
       "       [1.        , 0.        ],\n",
       "       [0.39912851, 0.60087149],\n",
       "       [1.        , 0.        ],\n",
       "       [0.39912851, 0.60087149],\n",
       "       [0.01033086, 0.98966914],\n",
       "       [1.        , 0.        ],\n",
       "       [0.01033086, 0.98966914],\n",
       "       [0.92547644, 0.07452356],\n",
       "       [0.01033086, 0.98966914],\n",
       "       [0.01033086, 0.98966914],\n",
       "       [1.        , 0.        ],\n",
       "       [1.        , 0.        ],\n",
       "       [0.01033086, 0.98966914],\n",
       "       [0.        , 1.        ],\n",
       "       [1.        , 0.        ],\n",
       "       [1.        , 0.        ],\n",
       "       [0.39912851, 0.60087149],\n",
       "       [0.39912851, 0.60087149],\n",
       "       [0.        , 1.        ],\n",
       "       [0.92547644, 0.07452356],\n",
       "       [0.39912851, 0.60087149],\n",
       "       [0.39912851, 0.60087149],\n",
       "       [1.        , 0.        ],\n",
       "       [0.01033086, 0.98966914],\n",
       "       [1.        , 0.        ],\n",
       "       [0.92547644, 0.07452356],\n",
       "       [1.        , 0.        ],\n",
       "       [0.87391723, 0.12608277],\n",
       "       [0.39912851, 0.60087149],\n",
       "       [1.        , 0.        ],\n",
       "       [0.39912851, 0.60087149],\n",
       "       [0.87391723, 0.12608277],\n",
       "       [1.        , 0.        ],\n",
       "       [0.87391723, 0.12608277],\n",
       "       [0.01033086, 0.98966914],\n",
       "       [1.        , 0.        ],\n",
       "       [1.        , 0.        ],\n",
       "       [0.01033086, 0.98966914],\n",
       "       [0.39912851, 0.60087149],\n",
       "       [0.92547644, 0.07452356],\n",
       "       [1.        , 0.        ],\n",
       "       [0.01033086, 0.98966914],\n",
       "       [1.        , 0.        ],\n",
       "       [0.92547644, 0.07452356],\n",
       "       [0.12618121, 0.87381879],\n",
       "       [0.01033086, 0.98966914],\n",
       "       [0.92547644, 0.07452356],\n",
       "       [0.87391723, 0.12608277],\n",
       "       [0.01033086, 0.98966914],\n",
       "       [1.        , 0.        ],\n",
       "       [0.87391723, 0.12608277],\n",
       "       [1.        , 0.        ],\n",
       "       [0.39912851, 0.60087149],\n",
       "       [0.        , 1.        ],\n",
       "       [0.        , 1.        ],\n",
       "       [1.        , 0.        ],\n",
       "       [0.22408687, 0.77591313],\n",
       "       [0.01033086, 0.98966914],\n",
       "       [1.        , 0.        ],\n",
       "       [0.01033086, 0.98966914],\n",
       "       [1.        , 0.        ],\n",
       "       [0.39912851, 0.60087149],\n",
       "       [0.92547644, 0.07452356],\n",
       "       [0.92547644, 0.07452356],\n",
       "       [1.        , 0.        ],\n",
       "       [0.01033086, 0.98966914],\n",
       "       [0.39912851, 0.60087149],\n",
       "       [0.01033086, 0.98966914],\n",
       "       [0.87391723, 0.12608277],\n",
       "       [0.12618121, 0.87381879],\n",
       "       [1.        , 0.        ],\n",
       "       [0.39912851, 0.60087149],\n",
       "       [0.01033086, 0.98966914],\n",
       "       [1.        , 0.        ],\n",
       "       [1.        , 0.        ],\n",
       "       [1.        , 0.        ],\n",
       "       [0.39912851, 0.60087149],\n",
       "       [0.11014071, 0.88985929],\n",
       "       [0.01033086, 0.98966914],\n",
       "       [0.        , 1.        ],\n",
       "       [0.39912851, 0.60087149],\n",
       "       [1.        , 0.        ],\n",
       "       [0.39912851, 0.60087149],\n",
       "       [1.        , 0.        ],\n",
       "       [1.        , 0.        ],\n",
       "       [0.01033086, 0.98966914],\n",
       "       [0.87391723, 0.12608277],\n",
       "       [0.01033086, 0.98966914],\n",
       "       [0.        , 1.        ],\n",
       "       [1.        , 0.        ],\n",
       "       [0.        , 1.        ],\n",
       "       [0.87391723, 0.12608277],\n",
       "       [0.12618121, 0.87381879],\n",
       "       [0.39912851, 0.60087149],\n",
       "       [0.11014071, 0.88985929],\n",
       "       [0.39912851, 0.60087149],\n",
       "       [0.39912851, 0.60087149],\n",
       "       [1.        , 0.        ],\n",
       "       [0.01033086, 0.98966914],\n",
       "       [1.        , 0.        ],\n",
       "       [1.        , 0.        ],\n",
       "       [1.        , 0.        ],\n",
       "       [0.01033086, 0.98966914],\n",
       "       [0.92547644, 0.07452356],\n",
       "       [0.01033086, 0.98966914],\n",
       "       [1.        , 0.        ],\n",
       "       [1.        , 0.        ],\n",
       "       [0.92547644, 0.07452356],\n",
       "       [0.        , 1.        ],\n",
       "       [0.01033086, 0.98966914],\n",
       "       [0.01033086, 0.98966914],\n",
       "       [1.        , 0.        ],\n",
       "       [1.        , 0.        ],\n",
       "       [1.        , 0.        ],\n",
       "       [0.        , 1.        ],\n",
       "       [0.01033086, 0.98966914],\n",
       "       [0.39912851, 0.60087149],\n",
       "       [1.        , 0.        ],\n",
       "       [0.92547644, 0.07452356],\n",
       "       [1.        , 0.        ],\n",
       "       [0.39912851, 0.60087149],\n",
       "       [0.92547644, 0.07452356],\n",
       "       [0.30226365, 0.69773635],\n",
       "       [1.        , 0.        ],\n",
       "       [1.        , 0.        ],\n",
       "       [0.87391723, 0.12608277],\n",
       "       [0.11014071, 0.88985929],\n",
       "       [1.        , 0.        ],\n",
       "       [0.01033086, 0.98966914],\n",
       "       [0.22408687, 0.77591313],\n",
       "       [0.01033086, 0.98966914],\n",
       "       [0.11014071, 0.88985929],\n",
       "       [1.        , 0.        ],\n",
       "       [1.        , 0.        ],\n",
       "       [0.92547644, 0.07452356],\n",
       "       [0.92547644, 0.07452356],\n",
       "       [1.        , 0.        ],\n",
       "       [0.39912851, 0.60087149],\n",
       "       [0.92547644, 0.07452356],\n",
       "       [0.92547644, 0.07452356],\n",
       "       [0.01033086, 0.98966914],\n",
       "       [0.39912851, 0.60087149],\n",
       "       [1.        , 0.        ],\n",
       "       [1.        , 0.        ],\n",
       "       [0.01033086, 0.98966914],\n",
       "       [0.01033086, 0.98966914],\n",
       "       [0.        , 1.        ],\n",
       "       [0.92547644, 0.07452356],\n",
       "       [0.92547644, 0.07452356],\n",
       "       [1.        , 0.        ],\n",
       "       [0.01033086, 0.98966914],\n",
       "       [0.92547644, 0.07452356]])"
      ]
     },
     "execution_count": 57,
     "metadata": {},
     "output_type": "execute_result"
    }
   ],
   "source": [
    "cls1.predict_proba(X_test)"
   ]
  },
  {
   "cell_type": "code",
   "execution_count": 58,
   "metadata": {},
   "outputs": [
    {
     "data": {
      "text/plain": [
       "array([1., 0., 0., 0., 1., 0., 0., 0., 1., 1., 1., 1., 0., 1., 0., 1., 1.,\n",
       "       0., 1., 0., 1., 1., 0., 0., 1., 1., 0., 0., 1., 1., 1., 0., 1., 1.,\n",
       "       0., 1., 0., 0., 0., 0., 1., 0., 1., 0., 0., 0., 1., 0., 0., 1., 1.,\n",
       "       0., 0., 1., 0., 0., 1., 1., 0., 0., 1., 0., 0., 0., 1., 1., 1., 0.,\n",
       "       1., 1., 0., 1., 0., 1., 0., 0., 0., 1., 1., 1., 0., 1., 0., 1., 1.,\n",
       "       0., 0., 0., 1., 1., 1., 1., 1., 0., 1., 0., 0., 1., 0., 1., 1., 0.,\n",
       "       1., 0., 1., 1., 1., 1., 1., 0., 1., 0., 0., 0., 1., 0., 1., 0., 0.,\n",
       "       0., 1., 1., 1., 0., 0., 0., 1., 1., 1., 0., 0., 0., 1., 0., 1., 0.,\n",
       "       0., 0., 1., 0., 1., 1., 1., 1., 0., 0., 0., 0., 0., 1., 0., 0., 1.,\n",
       "       1., 0., 0., 1., 1., 1., 0., 0., 0., 1., 0.])"
      ]
     },
     "execution_count": 58,
     "metadata": {},
     "output_type": "execute_result"
    }
   ],
   "source": [
    "cls1.predict(X_test)"
   ]
  },
  {
   "cell_type": "code",
   "execution_count": 59,
   "metadata": {},
   "outputs": [],
   "source": [
    "# SVM with rbf kernel"
   ]
  },
  {
   "cell_type": "code",
   "execution_count": 60,
   "metadata": {},
   "outputs": [],
   "source": [
    "svc1 = SVC(C=1.0, kernel='rbf', gamma='scale', class_weight='balanced', random_state=1)"
   ]
  },
  {
   "cell_type": "code",
   "execution_count": 61,
   "metadata": {},
   "outputs": [
    {
     "data": {
      "text/plain": [
       "SVC(C=1.0, cache_size=200, class_weight='balanced', coef0=0.0,\n",
       "    decision_function_shape='ovr', degree=3, gamma='scale', kernel='rbf',\n",
       "    max_iter=-1, probability=False, random_state=1, shrinking=True, tol=0.001,\n",
       "    verbose=False)"
      ]
     },
     "execution_count": 61,
     "metadata": {},
     "output_type": "execute_result"
    }
   ],
   "source": [
    "svc1.fit(X_train, np.ravel(y_train))"
   ]
  },
  {
   "cell_type": "code",
   "execution_count": 62,
   "metadata": {},
   "outputs": [
    {
     "data": {
      "text/plain": [
       "0.8719512195121951"
      ]
     },
     "execution_count": 62,
     "metadata": {},
     "output_type": "execute_result"
    }
   ],
   "source": [
    "svc1.score(X_test, y_test)"
   ]
  },
  {
   "cell_type": "code",
   "execution_count": 63,
   "metadata": {},
   "outputs": [],
   "source": [
    "# Logistic Regression"
   ]
  },
  {
   "cell_type": "code",
   "execution_count": 64,
   "metadata": {},
   "outputs": [],
   "source": [
    "log1 = LogisticRegression(C=1.0, class_weight='balanced', random_state=1, max_iter=1000, multi_class='ovr')"
   ]
  },
  {
   "cell_type": "code",
   "execution_count": 65,
   "metadata": {},
   "outputs": [
    {
     "name": "stderr",
     "output_type": "stream",
     "text": [
      "/Users/babu/opt/anaconda3/lib/python3.7/site-packages/sklearn/linear_model/logistic.py:432: FutureWarning: Default solver will be changed to 'lbfgs' in 0.22. Specify a solver to silence this warning.\n",
      "  FutureWarning)\n"
     ]
    },
    {
     "data": {
      "text/plain": [
       "LogisticRegression(C=1.0, class_weight='balanced', dual=False,\n",
       "                   fit_intercept=True, intercept_scaling=1, l1_ratio=None,\n",
       "                   max_iter=1000, multi_class='ovr', n_jobs=None, penalty='l2',\n",
       "                   random_state=1, solver='warn', tol=0.0001, verbose=0,\n",
       "                   warm_start=False)"
      ]
     },
     "execution_count": 65,
     "metadata": {},
     "output_type": "execute_result"
    }
   ],
   "source": [
    "log1.fit(X_train, np.ravel(y_train))"
   ]
  },
  {
   "cell_type": "code",
   "execution_count": 66,
   "metadata": {},
   "outputs": [
    {
     "data": {
      "text/plain": [
       "0.8780487804878049"
      ]
     },
     "execution_count": 66,
     "metadata": {},
     "output_type": "execute_result"
    }
   ],
   "source": [
    "log1.score(X_test, y_test) # better score than Decision Tree!"
   ]
  },
  {
   "cell_type": "code",
   "execution_count": 67,
   "metadata": {
    "collapsed": true
   },
   "outputs": [
    {
     "data": {
      "text/plain": [
       "array([[1.58273500e-02, 9.84172650e-01],\n",
       "       [9.33456504e-01, 6.65434957e-02],\n",
       "       [9.18483196e-01, 8.15168036e-02],\n",
       "       [9.33282126e-01, 6.67178742e-02],\n",
       "       [1.75783053e-02, 9.82421695e-01],\n",
       "       [7.04057108e-01, 2.95942892e-01],\n",
       "       [9.46947142e-01, 5.30528582e-02],\n",
       "       [9.68008074e-01, 3.19919260e-02],\n",
       "       [8.74805631e-03, 9.91251944e-01],\n",
       "       [3.71997256e-02, 9.62800274e-01],\n",
       "       [2.16522536e-01, 7.83477464e-01],\n",
       "       [1.63676078e-01, 8.36323922e-01],\n",
       "       [9.78295113e-01, 2.17048872e-02],\n",
       "       [2.31340737e-01, 7.68659263e-01],\n",
       "       [9.27943708e-01, 7.20562924e-02],\n",
       "       [4.26144732e-02, 9.57385527e-01],\n",
       "       [3.99731803e-02, 9.60026820e-01],\n",
       "       [9.76183075e-01, 2.38169250e-02],\n",
       "       [1.54844952e-01, 8.45155048e-01],\n",
       "       [8.54598747e-01, 1.45401253e-01],\n",
       "       [1.31361936e-01, 8.68638064e-01],\n",
       "       [8.33739126e-03, 9.91662609e-01],\n",
       "       [9.24350601e-01, 7.56493990e-02],\n",
       "       [8.90596463e-01, 1.09403537e-01],\n",
       "       [3.22173986e-01, 6.77826014e-01],\n",
       "       [2.53654408e-01, 7.46345592e-01],\n",
       "       [9.69981526e-01, 3.00184740e-02],\n",
       "       [9.48502064e-01, 5.14979357e-02],\n",
       "       [2.62413800e-01, 7.37586200e-01],\n",
       "       [6.00735415e-02, 9.39926458e-01],\n",
       "       [4.55014657e-02, 9.54498534e-01],\n",
       "       [9.47906393e-01, 5.20936071e-02],\n",
       "       [6.60902631e-01, 3.39097369e-01],\n",
       "       [3.63274535e-01, 6.36725465e-01],\n",
       "       [9.36817361e-01, 6.31826395e-02],\n",
       "       [3.02056925e-02, 9.69794308e-01],\n",
       "       [9.32319585e-01, 6.76804155e-02],\n",
       "       [9.91394594e-01, 8.60540586e-03],\n",
       "       [9.86081190e-01, 1.39188098e-02],\n",
       "       [8.97866787e-01, 1.02133213e-01],\n",
       "       [3.66433802e-01, 6.33566198e-01],\n",
       "       [8.69250626e-01, 1.30749374e-01],\n",
       "       [4.63677638e-01, 5.36322362e-01],\n",
       "       [9.90864229e-01, 9.13577073e-03],\n",
       "       [9.85508664e-01, 1.44913363e-02],\n",
       "       [9.67617436e-01, 3.23825637e-02],\n",
       "       [2.75357612e-01, 7.24642388e-01],\n",
       "       [9.34615436e-01, 6.53845643e-02],\n",
       "       [9.56089828e-01, 4.39101723e-02],\n",
       "       [2.34603586e-02, 9.76539641e-01],\n",
       "       [8.36075392e-02, 9.16392461e-01],\n",
       "       [9.17704970e-01, 8.22950299e-02],\n",
       "       [9.58685411e-01, 4.13145894e-02],\n",
       "       [2.70788293e-02, 9.72921171e-01],\n",
       "       [9.13577102e-01, 8.64228985e-02],\n",
       "       [9.15513676e-01, 8.44863236e-02],\n",
       "       [5.86845787e-02, 9.41315421e-01],\n",
       "       [8.27429383e-02, 9.17257062e-01],\n",
       "       [9.55005959e-01, 4.49940408e-02],\n",
       "       [9.86853101e-01, 1.31468992e-02],\n",
       "       [6.43170547e-03, 9.93568295e-01],\n",
       "       [9.85019392e-01, 1.49806077e-02],\n",
       "       [9.75006443e-01, 2.49935568e-02],\n",
       "       [9.07263184e-01, 9.27368165e-02],\n",
       "       [5.77414399e-01, 4.22585601e-01],\n",
       "       [2.59317690e-01, 7.40682310e-01],\n",
       "       [1.78316064e-01, 8.21683936e-01],\n",
       "       [9.26798474e-01, 7.32015263e-02],\n",
       "       [9.61695451e-01, 3.83045486e-02],\n",
       "       [1.42881060e-01, 8.57118940e-01],\n",
       "       [9.87958209e-01, 1.20417907e-02],\n",
       "       [7.34158454e-02, 9.26584155e-01],\n",
       "       [9.71471214e-01, 2.85287860e-02],\n",
       "       [3.17563023e-01, 6.82436977e-01],\n",
       "       [9.73513405e-01, 2.64865950e-02],\n",
       "       [9.55232807e-01, 4.47671931e-02],\n",
       "       [9.88116276e-01, 1.18837236e-02],\n",
       "       [2.00348968e-02, 9.79965103e-01],\n",
       "       [1.74848095e-01, 8.25151905e-01],\n",
       "       [6.42047184e-02, 9.35795282e-01],\n",
       "       [9.16802949e-01, 8.31970509e-02],\n",
       "       [2.64537169e-01, 7.35462831e-01],\n",
       "       [9.45419766e-01, 5.45802344e-02],\n",
       "       [3.38286918e-01, 6.61713082e-01],\n",
       "       [4.88159772e-03, 9.95118402e-01],\n",
       "       [9.54911995e-01, 4.50880054e-02],\n",
       "       [9.27658566e-01, 7.23414340e-02],\n",
       "       [9.83626414e-01, 1.63735861e-02],\n",
       "       [2.56889166e-01, 7.43110834e-01],\n",
       "       [1.21063347e-01, 8.78936653e-01],\n",
       "       [1.21975921e-01, 8.78024079e-01],\n",
       "       [3.20852705e-07, 9.99999679e-01],\n",
       "       [1.37331387e-01, 8.62668613e-01],\n",
       "       [9.41101058e-01, 5.88989422e-02],\n",
       "       [3.50797397e-01, 6.49202603e-01],\n",
       "       [9.90913177e-01, 9.08682280e-03],\n",
       "       [9.40655686e-01, 5.93443137e-02],\n",
       "       [8.03209844e-03, 9.91967902e-01],\n",
       "       [9.85734417e-01, 1.42655827e-02],\n",
       "       [9.24183201e-02, 9.07581680e-01],\n",
       "       [1.62329491e-02, 9.83767051e-01],\n",
       "       [8.28654086e-01, 1.71345914e-01],\n",
       "       [9.15219482e-03, 9.90847805e-01],\n",
       "       [9.84070213e-01, 1.59297873e-02],\n",
       "       [2.13805812e-01, 7.86194188e-01],\n",
       "       [5.46138397e-02, 9.45386160e-01],\n",
       "       [2.24003287e-01, 7.75996713e-01],\n",
       "       [3.43487754e-01, 6.56512246e-01],\n",
       "       [1.98185794e-01, 8.01814206e-01],\n",
       "       [9.27178344e-01, 7.28216563e-02],\n",
       "       [2.49372919e-02, 9.75062708e-01],\n",
       "       [9.40495570e-01, 5.95044301e-02],\n",
       "       [9.17594864e-01, 8.24051365e-02],\n",
       "       [9.84029394e-01, 1.59706063e-02],\n",
       "       [2.97901385e-02, 9.70209862e-01],\n",
       "       [9.09034350e-01, 9.09656502e-02],\n",
       "       [1.05829743e-01, 8.94170257e-01],\n",
       "       [1.18049792e-10, 1.00000000e+00],\n",
       "       [9.22122585e-01, 7.78774148e-02],\n",
       "       [9.67489662e-01, 3.25103380e-02],\n",
       "       [3.19897728e-02, 9.68010227e-01],\n",
       "       [2.75258292e-02, 9.72474171e-01],\n",
       "       [3.20865248e-05, 9.99967913e-01],\n",
       "       [8.88068144e-01, 1.11931856e-01],\n",
       "       [9.16040015e-01, 8.39599846e-02],\n",
       "       [9.91781122e-01, 8.21887791e-03],\n",
       "       [1.04698755e-01, 8.95301245e-01],\n",
       "       [3.56098843e-02, 9.64390116e-01],\n",
       "       [6.36291001e-01, 3.63708999e-01],\n",
       "       [9.33638457e-03, 9.90663615e-01],\n",
       "       [8.00010673e-01, 1.99989327e-01],\n",
       "       [9.68154120e-01, 3.18458805e-02],\n",
       "       [3.07667340e-01, 6.92332660e-01],\n",
       "       [8.86169826e-01, 1.13830174e-01],\n",
       "       [1.18227235e-02, 9.88177276e-01],\n",
       "       [6.92441825e-01, 3.07558175e-01],\n",
       "       [9.44482579e-01, 5.55174214e-02],\n",
       "       [9.37492480e-01, 6.25075203e-02],\n",
       "       [3.64418838e-01, 6.35581162e-01],\n",
       "       [9.87747205e-01, 1.22527949e-02],\n",
       "       [7.34067894e-03, 9.92659321e-01],\n",
       "       [9.65521158e-01, 3.44788417e-02],\n",
       "       [1.94941960e-02, 9.80505804e-01],\n",
       "       [2.36337102e-01, 7.63662898e-01],\n",
       "       [9.93152582e-01, 6.84741773e-03],\n",
       "       [9.67927977e-01, 3.20720226e-02],\n",
       "       [9.62921846e-01, 3.70781537e-02],\n",
       "       [9.39599912e-01, 6.04000877e-02],\n",
       "       [9.90395612e-01, 9.60438784e-03],\n",
       "       [3.58420511e-02, 9.64157949e-01],\n",
       "       [9.90822200e-01, 9.17779953e-03],\n",
       "       [9.66244985e-01, 3.37550146e-02],\n",
       "       [8.39722781e-02, 9.16027722e-01],\n",
       "       [3.87488222e-01, 6.12511778e-01],\n",
       "       [8.66719916e-01, 1.33280084e-01],\n",
       "       [9.57666641e-01, 4.23333589e-02],\n",
       "       [7.70969278e-02, 9.22903072e-01],\n",
       "       [4.67859874e-02, 9.53214013e-01],\n",
       "       [2.80773978e-01, 7.19226022e-01],\n",
       "       [9.90385704e-01, 9.61429618e-03],\n",
       "       [9.78250307e-01, 2.17496931e-02],\n",
       "       [8.25603593e-01, 1.74396407e-01],\n",
       "       [6.03643816e-02, 9.39635618e-01],\n",
       "       [8.16495567e-01, 1.83504433e-01]])"
      ]
     },
     "execution_count": 67,
     "metadata": {},
     "output_type": "execute_result"
    }
   ],
   "source": [
    "log1.predict_proba(X_test)"
   ]
  },
  {
   "cell_type": "code",
   "execution_count": 68,
   "metadata": {},
   "outputs": [],
   "source": [
    "# Logistic Regression CV"
   ]
  },
  {
   "cell_type": "code",
   "execution_count": 69,
   "metadata": {},
   "outputs": [],
   "source": [
    "LogRegCV1 = LogisticRegressionCV(Cs=20, max_iter=10000, class_weight='balanced', multi_class='ovr', random_state=1, solver='sag')"
   ]
  },
  {
   "cell_type": "code",
   "execution_count": 70,
   "metadata": {},
   "outputs": [
    {
     "name": "stderr",
     "output_type": "stream",
     "text": [
      "/Users/babu/opt/anaconda3/lib/python3.7/site-packages/sklearn/model_selection/_split.py:1978: FutureWarning: The default value of cv will change from 3 to 5 in version 0.22. Specify it explicitly to silence this warning.\n",
      "  warnings.warn(CV_WARNING, FutureWarning)\n"
     ]
    },
    {
     "data": {
      "text/plain": [
       "LogisticRegressionCV(Cs=20, class_weight='balanced', cv='warn', dual=False,\n",
       "                     fit_intercept=True, intercept_scaling=1.0, l1_ratios=None,\n",
       "                     max_iter=10000, multi_class='ovr', n_jobs=None,\n",
       "                     penalty='l2', random_state=1, refit=True, scoring=None,\n",
       "                     solver='sag', tol=0.0001, verbose=0)"
      ]
     },
     "execution_count": 70,
     "metadata": {},
     "output_type": "execute_result"
    }
   ],
   "source": [
    "LogRegCV1.fit(X_train, np.ravel(y_train))"
   ]
  },
  {
   "cell_type": "code",
   "execution_count": 71,
   "metadata": {},
   "outputs": [
    {
     "data": {
      "text/plain": [
       "0.8780487804878049"
      ]
     },
     "execution_count": 71,
     "metadata": {},
     "output_type": "execute_result"
    }
   ],
   "source": [
    "LogRegCV1.score(X_test, y_test)"
   ]
  },
  {
   "cell_type": "code",
   "execution_count": 72,
   "metadata": {},
   "outputs": [
    {
     "data": {
      "text/plain": [
       "array([0.08858668])"
      ]
     },
     "execution_count": 72,
     "metadata": {},
     "output_type": "execute_result"
    }
   ],
   "source": [
    "LogRegCV1.C_"
   ]
  },
  {
   "cell_type": "code",
   "execution_count": 73,
   "metadata": {},
   "outputs": [
    {
     "data": {
      "text/plain": [
       "array([1.00000000e-04, 2.63665090e-04, 6.95192796e-04, 1.83298071e-03,\n",
       "       4.83293024e-03, 1.27427499e-02, 3.35981829e-02, 8.85866790e-02,\n",
       "       2.33572147e-01, 6.15848211e-01, 1.62377674e+00, 4.28133240e+00,\n",
       "       1.12883789e+01, 2.97635144e+01, 7.84759970e+01, 2.06913808e+02,\n",
       "       5.45559478e+02, 1.43844989e+03, 3.79269019e+03, 1.00000000e+04])"
      ]
     },
     "execution_count": 73,
     "metadata": {},
     "output_type": "execute_result"
    }
   ],
   "source": [
    "LogRegCV1.Cs_"
   ]
  },
  {
   "cell_type": "markdown",
   "metadata": {},
   "source": [
    "# Random Forest Classifier"
   ]
  },
  {
   "cell_type": "code",
   "execution_count": 74,
   "metadata": {},
   "outputs": [],
   "source": [
    "rfc1 = RandomForestClassifier(n_estimators=100, max_depth=None, \n",
    "    max_features=\"sqrt\", bootstrap=True, random_state=1, \n",
    "    class_weight='balanced_subsample')"
   ]
  },
  {
   "cell_type": "code",
   "execution_count": 75,
   "metadata": {},
   "outputs": [],
   "source": [
    "rfc1 = rfc1.fit(X_train, np.ravel(y_train))"
   ]
  },
  {
   "cell_type": "code",
   "execution_count": 76,
   "metadata": {},
   "outputs": [
    {
     "data": {
      "text/plain": [
       "0.8902439024390244"
      ]
     },
     "execution_count": 76,
     "metadata": {},
     "output_type": "execute_result"
    }
   ],
   "source": [
    "rfc1.score(X_test, np.ravel(y_test))"
   ]
  },
  {
   "cell_type": "code",
   "execution_count": 77,
   "metadata": {},
   "outputs": [
    {
     "data": {
      "text/plain": [
       "array([0., 1.])"
      ]
     },
     "execution_count": 77,
     "metadata": {},
     "output_type": "execute_result"
    }
   ],
   "source": [
    "rfc1.classes_"
   ]
  },
  {
   "cell_type": "code",
   "execution_count": 78,
   "metadata": {},
   "outputs": [
    {
     "data": {
      "text/plain": [
       "46"
      ]
     },
     "execution_count": 78,
     "metadata": {},
     "output_type": "execute_result"
    }
   ],
   "source": [
    "rfc1.n_features_"
   ]
  },
  {
   "cell_type": "code",
   "execution_count": 79,
   "metadata": {},
   "outputs": [
    {
     "data": {
      "text/plain": [
       "array([0.05804258, 0.06054971, 0.08543836, 0.05662105, 0.05996342,\n",
       "       0.05544551, 0.00673427, 0.00786809, 0.00130692, 0.00812119,\n",
       "       0.00719779, 0.00801994, 0.00089778, 0.00846243, 0.00531593,\n",
       "       0.00828278, 0.00676348, 0.00264056, 0.00265047, 0.00905711,\n",
       "       0.00837826, 0.00116604, 0.00910371, 0.00405872, 0.00753257,\n",
       "       0.00026076, 0.00549563, 0.00711781, 0.0051258 , 0.00043302,\n",
       "       0.00750484, 0.00993284, 0.00288379, 0.00220916, 0.        ,\n",
       "       0.00963338, 0.00129681, 0.19365286, 0.18455831, 0.02575357,\n",
       "       0.0245284 , 0.0094716 , 0.00825746, 0.00614486, 0.        ,\n",
       "       0.0061204 ])"
      ]
     },
     "execution_count": 79,
     "metadata": {},
     "output_type": "execute_result"
    }
   ],
   "source": [
    "rfc1.feature_importances_"
   ]
  },
  {
   "cell_type": "code",
   "execution_count": 80,
   "metadata": {},
   "outputs": [],
   "source": [
    "# Let us try Random Forest with ordinal encoded features"
   ]
  },
  {
   "cell_type": "code",
   "execution_count": 81,
   "metadata": {},
   "outputs": [],
   "source": [
    "oe1 = OrdinalEncoder()"
   ]
  },
  {
   "cell_type": "code",
   "execution_count": 82,
   "metadata": {},
   "outputs": [],
   "source": [
    "X_ordinal = oe1.fit_transform(X_raw[:,[0,3,4,5,6,8,9,11,12]])"
   ]
  },
  {
   "cell_type": "code",
   "execution_count": 83,
   "metadata": {},
   "outputs": [
    {
     "data": {
      "text/plain": [
       "[array(['a', 'b'], dtype=object),\n",
       " array(['l', 'u', 'y'], dtype=object),\n",
       " array(['g', 'gg', 'p'], dtype=object),\n",
       " array(['aa', 'c', 'cc', 'd', 'e', 'ff', 'i', 'j', 'k', 'm', 'q', 'r', 'w',\n",
       "        'x'], dtype=object),\n",
       " array(['bb', 'dd', 'ff', 'h', 'j', 'n', 'o', 'v', 'z'], dtype=object),\n",
       " array(['f', 't'], dtype=object),\n",
       " array(['f', 't'], dtype=object),\n",
       " array(['f', 't'], dtype=object),\n",
       " array(['g', 'p', 's'], dtype=object)]"
      ]
     },
     "execution_count": 83,
     "metadata": {},
     "output_type": "execute_result"
    }
   ],
   "source": [
    "oe1.categories_"
   ]
  },
  {
   "cell_type": "code",
   "execution_count": 84,
   "metadata": {},
   "outputs": [
    {
     "data": {
      "text/plain": [
       "(653, 9)"
      ]
     },
     "execution_count": 84,
     "metadata": {},
     "output_type": "execute_result"
    }
   ],
   "source": [
    "X_ordinal.shape"
   ]
  },
  {
   "cell_type": "code",
   "execution_count": 85,
   "metadata": {},
   "outputs": [],
   "source": [
    "X1 = np.hstack((X_continuous, X_ordinal))"
   ]
  },
  {
   "cell_type": "code",
   "execution_count": 86,
   "metadata": {},
   "outputs": [
    {
     "data": {
      "text/plain": [
       "(653, 15)"
      ]
     },
     "execution_count": 86,
     "metadata": {},
     "output_type": "execute_result"
    }
   ],
   "source": [
    "X1.shape"
   ]
  },
  {
   "cell_type": "code",
   "execution_count": 87,
   "metadata": {},
   "outputs": [
    {
     "data": {
      "text/plain": [
       "numpy.ndarray"
      ]
     },
     "execution_count": 87,
     "metadata": {},
     "output_type": "execute_result"
    }
   ],
   "source": [
    "type(X1)"
   ]
  },
  {
   "cell_type": "code",
   "execution_count": 88,
   "metadata": {},
   "outputs": [
    {
     "data": {
      "text/plain": [
       "array([ 0.04870886, -0.16513945,  0.07590962, -0.50401869,  1.06821888,\n",
       "       -0.19312477,  1.        ,  1.        ,  0.        ,  9.        ,\n",
       "        7.        ,  1.        ,  0.        ,  1.        ,  0.        ])"
      ]
     },
     "execution_count": 88,
     "metadata": {},
     "output_type": "execute_result"
    }
   ],
   "source": [
    "X1[5]"
   ]
  },
  {
   "cell_type": "code",
   "execution_count": 89,
   "metadata": {},
   "outputs": [],
   "source": [
    "X1_train, X1_test, y1_train, y1_test = train_test_split(X1, y, test_size=0.25, random_state=1)"
   ]
  },
  {
   "cell_type": "code",
   "execution_count": 90,
   "metadata": {},
   "outputs": [],
   "source": [
    "rfc2 = RandomForestClassifier(n_estimators=200, max_depth=None, \n",
    "    max_features=None, bootstrap=True, random_state=1, \n",
    "    class_weight='balanced_subsample')"
   ]
  },
  {
   "cell_type": "code",
   "execution_count": 91,
   "metadata": {},
   "outputs": [],
   "source": [
    "rfc2 = rfc2.fit(X1_train, np.ravel(y1_train))"
   ]
  },
  {
   "cell_type": "code",
   "execution_count": 92,
   "metadata": {},
   "outputs": [
    {
     "data": {
      "text/plain": [
       "0.8963414634146342"
      ]
     },
     "execution_count": 92,
     "metadata": {},
     "output_type": "execute_result"
    }
   ],
   "source": [
    "rfc2.score(X1_test, np.ravel(y1_test)) #not much improvement compared to One Hot Encoding"
   ]
  },
  {
   "cell_type": "markdown",
   "metadata": {},
   "source": [
    "# ExtraTreesClassifier"
   ]
  },
  {
   "cell_type": "code",
   "execution_count": 93,
   "metadata": {},
   "outputs": [],
   "source": [
    "etc1 = ExtraTreesClassifier(n_estimators=200, max_depth=None, \n",
    "    max_features=\"sqrt\", bootstrap=True, random_state=1, \n",
    "    class_weight='balanced_subsample')"
   ]
  },
  {
   "cell_type": "code",
   "execution_count": 94,
   "metadata": {},
   "outputs": [],
   "source": [
    "etc1 = etc1.fit(X1_train, np.ravel(y1_train)) # with Ordinal data"
   ]
  },
  {
   "cell_type": "code",
   "execution_count": 95,
   "metadata": {},
   "outputs": [
    {
     "data": {
      "text/plain": [
       "0.8902439024390244"
      ]
     },
     "execution_count": 95,
     "metadata": {},
     "output_type": "execute_result"
    }
   ],
   "source": [
    "etc1.score(X1_test, np.ravel(y1_test))"
   ]
  },
  {
   "cell_type": "code",
   "execution_count": 96,
   "metadata": {},
   "outputs": [],
   "source": [
    "# let us try Extra Trees Classifier with one hot encoded data"
   ]
  },
  {
   "cell_type": "code",
   "execution_count": 97,
   "metadata": {},
   "outputs": [],
   "source": [
    "etc2 = ExtraTreesClassifier(n_estimators=200, max_depth=None, \n",
    "    max_features=\"sqrt\", bootstrap=True, random_state=1, \n",
    "    class_weight='balanced_subsample')"
   ]
  },
  {
   "cell_type": "code",
   "execution_count": 98,
   "metadata": {},
   "outputs": [],
   "source": [
    "etc2 = etc2.fit(X_train, np.ravel(y_train)) # with One Hot Encoded data"
   ]
  },
  {
   "cell_type": "code",
   "execution_count": 99,
   "metadata": {},
   "outputs": [
    {
     "data": {
      "text/plain": [
       "0.8902439024390244"
      ]
     },
     "execution_count": 99,
     "metadata": {},
     "output_type": "execute_result"
    }
   ],
   "source": [
    "etc2.score(X_test, np.ravel(y_test)) #not much different from Ordinal data score"
   ]
  },
  {
   "cell_type": "code",
   "execution_count": 100,
   "metadata": {},
   "outputs": [],
   "source": [
    "# let us try Logistic Regression and SVM with ordinal data"
   ]
  },
  {
   "cell_type": "code",
   "execution_count": 101,
   "metadata": {},
   "outputs": [],
   "source": [
    "log2 = LogisticRegression(C=1.0, class_weight='balanced', random_state=1, max_iter=1000, multi_class='ovr')"
   ]
  },
  {
   "cell_type": "code",
   "execution_count": 102,
   "metadata": {},
   "outputs": [
    {
     "name": "stderr",
     "output_type": "stream",
     "text": [
      "/Users/babu/opt/anaconda3/lib/python3.7/site-packages/sklearn/linear_model/logistic.py:432: FutureWarning: Default solver will be changed to 'lbfgs' in 0.22. Specify a solver to silence this warning.\n",
      "  FutureWarning)\n"
     ]
    }
   ],
   "source": [
    "log2 = log2.fit(X1_train, np.ravel(y1_train))"
   ]
  },
  {
   "cell_type": "code",
   "execution_count": 103,
   "metadata": {},
   "outputs": [
    {
     "data": {
      "text/plain": [
       "0.8719512195121951"
      ]
     },
     "execution_count": 103,
     "metadata": {},
     "output_type": "execute_result"
    }
   ],
   "source": [
    "log2.score(X1_test, y1_test) #same score as One Hot Encoded data"
   ]
  },
  {
   "cell_type": "code",
   "execution_count": 104,
   "metadata": {},
   "outputs": [],
   "source": [
    "LogRegCV2 = LogisticRegressionCV(Cs=20, max_iter=10000, class_weight='balanced', multi_class='ovr', random_state=1, solver='sag')"
   ]
  },
  {
   "cell_type": "code",
   "execution_count": 105,
   "metadata": {},
   "outputs": [
    {
     "name": "stderr",
     "output_type": "stream",
     "text": [
      "/Users/babu/opt/anaconda3/lib/python3.7/site-packages/sklearn/model_selection/_split.py:1978: FutureWarning: The default value of cv will change from 3 to 5 in version 0.22. Specify it explicitly to silence this warning.\n",
      "  warnings.warn(CV_WARNING, FutureWarning)\n"
     ]
    }
   ],
   "source": [
    "LogRegCV2 = LogRegCV2.fit(X1_train, np.ravel(y1_train))"
   ]
  },
  {
   "cell_type": "code",
   "execution_count": 106,
   "metadata": {},
   "outputs": [
    {
     "data": {
      "text/plain": [
       "0.8719512195121951"
      ]
     },
     "execution_count": 106,
     "metadata": {},
     "output_type": "execute_result"
    }
   ],
   "source": [
    "LogRegCV2.score(X1_test, y1_test) #same score as One Hot Encoded data"
   ]
  },
  {
   "cell_type": "code",
   "execution_count": 107,
   "metadata": {},
   "outputs": [
    {
     "data": {
      "text/plain": [
       "array([1.62377674])"
      ]
     },
     "execution_count": 107,
     "metadata": {},
     "output_type": "execute_result"
    }
   ],
   "source": [
    "LogRegCV2.C_"
   ]
  },
  {
   "cell_type": "code",
   "execution_count": 108,
   "metadata": {},
   "outputs": [
    {
     "data": {
      "text/plain": [
       "array([1.00000000e-04, 2.63665090e-04, 6.95192796e-04, 1.83298071e-03,\n",
       "       4.83293024e-03, 1.27427499e-02, 3.35981829e-02, 8.85866790e-02,\n",
       "       2.33572147e-01, 6.15848211e-01, 1.62377674e+00, 4.28133240e+00,\n",
       "       1.12883789e+01, 2.97635144e+01, 7.84759970e+01, 2.06913808e+02,\n",
       "       5.45559478e+02, 1.43844989e+03, 3.79269019e+03, 1.00000000e+04])"
      ]
     },
     "execution_count": 108,
     "metadata": {},
     "output_type": "execute_result"
    }
   ],
   "source": [
    "LogRegCV2.Cs_"
   ]
  },
  {
   "cell_type": "code",
   "execution_count": null,
   "metadata": {},
   "outputs": [],
   "source": []
  },
  {
   "cell_type": "code",
   "execution_count": 109,
   "metadata": {},
   "outputs": [],
   "source": [
    "svc2 = SVC(C=100.0, kernel='rbf', gamma='scale', class_weight='balanced', random_state=1)"
   ]
  },
  {
   "cell_type": "code",
   "execution_count": 110,
   "metadata": {},
   "outputs": [],
   "source": [
    "svc2 = svc2.fit(X1_train, np.ravel(y1_train))"
   ]
  },
  {
   "cell_type": "code",
   "execution_count": 111,
   "metadata": {},
   "outputs": [
    {
     "data": {
      "text/plain": [
       "0.8902439024390244"
      ]
     },
     "execution_count": 111,
     "metadata": {},
     "output_type": "execute_result"
    }
   ],
   "source": [
    "svc2.score(X1_test, y1_test) #comparable to One Hot Encoded result"
   ]
  },
  {
   "cell_type": "code",
   "execution_count": 112,
   "metadata": {},
   "outputs": [],
   "source": [
    "# sample test for Robust Scaler"
   ]
  },
  {
   "cell_type": "code",
   "execution_count": 113,
   "metadata": {},
   "outputs": [],
   "source": [
    "rs1 = RobustScaler().fit(X_raw1)"
   ]
  },
  {
   "cell_type": "code",
   "execution_count": 114,
   "metadata": {},
   "outputs": [],
   "source": [
    "X_rs1 = rs1.transform(X_raw1)"
   ]
  },
  {
   "cell_type": "code",
   "execution_count": 115,
   "metadata": {},
   "outputs": [],
   "source": [
    "#np.savetxt(\"/Users/babu/Mirror/Python_Programs/Scikit/Data/robust_scaling.csv\",\n",
    "#          X_rs1, delimiter=',') #just check the standardized values"
   ]
  },
  {
   "cell_type": "code",
   "execution_count": 116,
   "metadata": {},
   "outputs": [
    {
     "data": {
      "text/plain": [
       "array([ 15.67,   6.46,   2.46,   3.  , 199.  , 400.  ])"
      ]
     },
     "execution_count": 116,
     "metadata": {},
     "output_type": "execute_result"
    }
   ],
   "source": [
    "rs1.scale_"
   ]
  },
  {
   "cell_type": "code",
   "execution_count": 117,
   "metadata": {},
   "outputs": [],
   "source": [
    "ss = StandardScaler().fit(X_raw1)"
   ]
  },
  {
   "cell_type": "code",
   "execution_count": 118,
   "metadata": {},
   "outputs": [
    {
     "data": {
      "text/plain": [
       "array([1.18291991e+01, 5.02322675e+00, 3.36853801e+00, 4.96469103e+00,\n",
       "       1.68167897e+02, 5.24925454e+03])"
      ]
     },
     "execution_count": 118,
     "metadata": {},
     "output_type": "execute_result"
    }
   ],
   "source": [
    "ss.scale_"
   ]
  },
  {
   "cell_type": "code",
   "execution_count": 119,
   "metadata": {},
   "outputs": [],
   "source": [
    "# Draw boxplots based on Robust Scaled data to detect outliers"
   ]
  },
  {
   "cell_type": "code",
   "execution_count": 120,
   "metadata": {},
   "outputs": [
    {
     "data": {
      "image/png": "[encoded data removed]",
      "text/plain": [
       "<Figure size 432x288 with 6 Axes>"
      ]
     },
     "metadata": {
      "needs_background": "light"
     },
     "output_type": "display_data"
    }
   ],
   "source": [
    "plt.subplot(231)\n",
    "plt.boxplot(X_rs1[:,0])\n",
    "plt.subplot(232)\n",
    "plt.boxplot(X_rs1[:,1])\n",
    "plt.subplot(233)\n",
    "plt.boxplot(X_rs1[:,2])\n",
    "plt.subplot(234)\n",
    "plt.boxplot(X_rs1[:,3])\n",
    "plt.subplot(235)\n",
    "plt.boxplot(X_rs1[:,4])\n",
    "plt.subplot(236)\n",
    "plt.boxplot(X_rs1[:,5])\n",
    "plt.show()"
   ]
  },
  {
   "cell_type": "code",
   "execution_count": 121,
   "metadata": {},
   "outputs": [],
   "source": [
    "# Based on above histograms, data has outliers. \n",
    "# Hence identify and remove outliers based on dbscan algorithm."
   ]
  },
  {
   "cell_type": "code",
   "execution_count": 122,
   "metadata": {},
   "outputs": [],
   "source": [
    "core_samples, labels = dbscan(X_rs1, eps=5, min_samples=5)"
   ]
  },
  {
   "cell_type": "code",
   "execution_count": 123,
   "metadata": {},
   "outputs": [],
   "source": [
    "#labels"
   ]
  },
  {
   "cell_type": "code",
   "execution_count": 124,
   "metadata": {},
   "outputs": [
    {
     "data": {
      "text/plain": [
       "(13,)"
      ]
     },
     "execution_count": 124,
     "metadata": {},
     "output_type": "execute_result"
    }
   ],
   "source": [
    "np.where(labels==-1)[0].shape #count the number of outliers"
   ]
  },
  {
   "cell_type": "code",
   "execution_count": 125,
   "metadata": {},
   "outputs": [],
   "source": [
    "indices = np.where(labels==0)[0]"
   ]
  },
  {
   "cell_type": "code",
   "execution_count": 126,
   "metadata": {},
   "outputs": [],
   "source": [
    "X_rs1_clean = X_rs1[indices] #data with outliers removed"
   ]
  },
  {
   "cell_type": "code",
   "execution_count": 127,
   "metadata": {},
   "outputs": [
    {
     "data": {
      "text/plain": [
       "(640, 6)"
      ]
     },
     "execution_count": 127,
     "metadata": {},
     "output_type": "execute_result"
    }
   ],
   "source": [
    "X_rs1_clean.shape"
   ]
  },
  {
   "cell_type": "code",
   "execution_count": 128,
   "metadata": {},
   "outputs": [
    {
     "data": {
      "image/png": "[encoded data removed]",
      "text/plain": [
       "<Figure size 432x288 with 6 Axes>"
      ]
     },
     "metadata": {
      "needs_background": "light"
     },
     "output_type": "display_data"
    }
   ],
   "source": [
    "#draw boxplots to check if outliers have been removed\n",
    "plt.subplot(231)\n",
    "plt.boxplot(X_rs1_clean[:,0])\n",
    "plt.subplot(232)\n",
    "plt.boxplot(X_rs1_clean[:,1])\n",
    "plt.subplot(233)\n",
    "plt.boxplot(X_rs1_clean[:,2])\n",
    "plt.subplot(234)\n",
    "plt.boxplot(X_rs1_clean[:,3])\n",
    "plt.subplot(235)\n",
    "plt.boxplot(X_rs1_clean[:,4])\n",
    "plt.subplot(236)\n",
    "plt.boxplot(X_rs1_clean[:,5])\n",
    "plt.show()"
   ]
  },
  {
   "cell_type": "code",
   "execution_count": 129,
   "metadata": {},
   "outputs": [],
   "source": [
    "X_categorical_clean = X_categorical[indices] #corr. categorical data with outliers removed"
   ]
  },
  {
   "cell_type": "code",
   "execution_count": 130,
   "metadata": {},
   "outputs": [
    {
     "data": {
      "text/plain": [
       "(640, 40)"
      ]
     },
     "execution_count": 130,
     "metadata": {},
     "output_type": "execute_result"
    }
   ],
   "source": [
    "X_categorical_clean.shape"
   ]
  },
  {
   "cell_type": "code",
   "execution_count": 131,
   "metadata": {},
   "outputs": [],
   "source": [
    "X_clean = hstack((X_rs1_clean, X_categorical_clean))"
   ]
  },
  {
   "cell_type": "code",
   "execution_count": 132,
   "metadata": {},
   "outputs": [
    {
     "data": {
      "text/plain": [
       "(640, 46)"
      ]
     },
     "execution_count": 132,
     "metadata": {},
     "output_type": "execute_result"
    }
   ],
   "source": [
    "X_clean.shape"
   ]
  },
  {
   "cell_type": "code",
   "execution_count": 133,
   "metadata": {},
   "outputs": [],
   "source": [
    "y_clean = y[indices] #remove traget values corr. to outliers"
   ]
  },
  {
   "cell_type": "code",
   "execution_count": 134,
   "metadata": {},
   "outputs": [
    {
     "data": {
      "text/plain": [
       "(640, 1)"
      ]
     },
     "execution_count": 134,
     "metadata": {},
     "output_type": "execute_result"
    }
   ],
   "source": [
    "y_clean.shape"
   ]
  },
  {
   "cell_type": "code",
   "execution_count": 135,
   "metadata": {},
   "outputs": [],
   "source": [
    "X_train, X_test, y_train, y_test = train_test_split(X_clean, y_clean, test_size=0.25, random_state=1)"
   ]
  },
  {
   "cell_type": "markdown",
   "metadata": {},
   "source": [
    "# Develop models using data without outliers"
   ]
  },
  {
   "cell_type": "code",
   "execution_count": 136,
   "metadata": {},
   "outputs": [],
   "source": [
    "# Random Forest Classifier\n",
    "rfc3 = RandomForestClassifier(n_estimators=200, max_depth=None, \n",
    "    min_samples_split=2, min_samples_leaf=1, max_features='sqrt', \n",
    "    random_state=1, class_weight=\"balanced_subsample\")"
   ]
  },
  {
   "cell_type": "code",
   "execution_count": 137,
   "metadata": {},
   "outputs": [],
   "source": [
    "rfc3 = rfc3.fit(X_train, np.ravel(y_train))"
   ]
  },
  {
   "cell_type": "code",
   "execution_count": 138,
   "metadata": {},
   "outputs": [
    {
     "data": {
      "text/plain": [
       "0.9"
      ]
     },
     "execution_count": 138,
     "metadata": {},
     "output_type": "execute_result"
    }
   ],
   "source": [
    "rfc3.score(X_test, np.ravel(y_test))"
   ]
  },
  {
   "cell_type": "code",
   "execution_count": 139,
   "metadata": {},
   "outputs": [],
   "source": [
    "# Extra Trees Classifier\n",
    "etc3 = ExtraTreesClassifier(n_estimators=200, max_features=\"sqrt\", bootstrap=True,\n",
    "            random_state=1, class_weight=\"balanced_subsample\")"
   ]
  },
  {
   "cell_type": "code",
   "execution_count": 140,
   "metadata": {},
   "outputs": [],
   "source": [
    "etc3 = etc3.fit(X_train, np.ravel(y_train))"
   ]
  },
  {
   "cell_type": "code",
   "execution_count": 141,
   "metadata": {},
   "outputs": [
    {
     "data": {
      "text/plain": [
       "0.89375"
      ]
     },
     "execution_count": 141,
     "metadata": {},
     "output_type": "execute_result"
    }
   ],
   "source": [
    "etc3.score(X_test, np.ravel(y_test))"
   ]
  },
  {
   "cell_type": "code",
   "execution_count": 142,
   "metadata": {},
   "outputs": [],
   "source": [
    "# Logistic Regression CV\n",
    "LogRegCV3 = LogisticRegressionCV(Cs=20, solver='sag', max_iter=10000,\n",
    "                class_weight='balanced', multi_class='ovr', random_state=1)"
   ]
  },
  {
   "cell_type": "code",
   "execution_count": 143,
   "metadata": {},
   "outputs": [
    {
     "name": "stderr",
     "output_type": "stream",
     "text": [
      "/Users/babu/opt/anaconda3/lib/python3.7/site-packages/sklearn/model_selection/_split.py:1978: FutureWarning: The default value of cv will change from 3 to 5 in version 0.22. Specify it explicitly to silence this warning.\n",
      "  warnings.warn(CV_WARNING, FutureWarning)\n"
     ]
    }
   ],
   "source": [
    "LogRegCV3 = LogRegCV3.fit(X_train, np.ravel(y_train))"
   ]
  },
  {
   "cell_type": "code",
   "execution_count": 144,
   "metadata": {},
   "outputs": [
    {
     "data": {
      "text/plain": [
       "0.8875"
      ]
     },
     "execution_count": 144,
     "metadata": {},
     "output_type": "execute_result"
    }
   ],
   "source": [
    "LogRegCV3.score(X_test, np.ravel(y_test))"
   ]
  },
  {
   "cell_type": "code",
   "execution_count": 145,
   "metadata": {},
   "outputs": [],
   "source": [
    "#SVC"
   ]
  },
  {
   "cell_type": "code",
   "execution_count": 146,
   "metadata": {},
   "outputs": [],
   "source": [
    "svc3 = SVC(C=10.0, kernel='rbf', gamma='scale', class_weight='balanced', random_state=1)"
   ]
  },
  {
   "cell_type": "code",
   "execution_count": 147,
   "metadata": {},
   "outputs": [],
   "source": [
    "svc3 = svc3.fit(X_train, np.ravel(y_train))"
   ]
  },
  {
   "cell_type": "code",
   "execution_count": 148,
   "metadata": {},
   "outputs": [
    {
     "data": {
      "text/plain": [
       "0.875"
      ]
     },
     "execution_count": 148,
     "metadata": {},
     "output_type": "execute_result"
    }
   ],
   "source": [
    "svc3.score(X_test, np.ravel(y_test)) "
   ]
  },
  {
   "cell_type": "code",
   "execution_count": null,
   "metadata": {},
   "outputs": [],
   "source": []
  }
 ],
 "metadata": {
  "kernelspec": {
   "display_name": "Python 3",
   "language": "python",
   "name": "python3"
  },
  "language_info": {
   "codemirror_mode": {
    "name": "ipython",
    "version": 3
   },
   "file_extension": ".py",
   "mimetype": "text/x-python",
   "name": "python",
   "nbconvert_exporter": "python",
   "pygments_lexer": "ipython3",
   "version": "3.7.4"
  }
 },
 "nbformat": 4,
 "nbformat_minor": 2
}
