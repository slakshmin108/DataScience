{
 "cells": [
  {
   "cell_type": "markdown",
   "id": "693d8f52",
   "metadata": {},
   "source": [
    "### Sample program on NLP"
   ]
  },
  {
   "cell_type": "code",
   "execution_count": 27,
   "id": "2fd8cbd1",
   "metadata": {},
   "outputs": [],
   "source": [
    "\n",
    "from nltk.tokenize import word_tokenize"
   ]
  },
  {
   "cell_type": "code",
   "execution_count": 28,
   "id": "35491851",
   "metadata": {},
   "outputs": [
    {
     "name": "stdout",
     "output_type": "stream",
     "text": [
      "Length of the text is:  422\n"
     ]
    }
   ],
   "source": [
    "# Read the file \n",
    "file = open(\"C:\\\\Users\\ei11891\\Documents\\Python Scripts\\sample.txt\", \"rt\")\n",
    "text = file.read()\n",
    "file.close()\n",
    "print('Length of the text is: ', len(text))"
   ]
  },
  {
   "cell_type": "markdown",
   "id": "936b4cab",
   "metadata": {},
   "source": [
    "#### Manual Tokenization"
   ]
  },
  {
   "cell_type": "code",
   "execution_count": 30,
   "id": "c06eaaf3",
   "metadata": {},
   "outputs": [
    {
     "name": "stdout",
     "output_type": "stream",
     "text": [
      "Number of words:  59\n",
      "['The', 'Project', 'Gutenberg', 'eBook', 'of', 'Winter', 'Butterflies', 'in', 'Bolinas,', 'by', 'Mary', 'D.', 'Barber.', 'You', 'may', 'copy', 'it,', 'give', 'it', 'away', 'or', 're-use', 'it', 'at', 'www.gutenberg.org.', 'Title:', 'Winter', 'Butterflies', 'in', 'Bolinas', 'Release', 'Date:', 'September', '8,', '2021', '[eBook', '#66247]', 'Language:', 'English', 'Produced', 'by:', 'Stephen', 'Hutcheson', 'https://www.pgdp.net', '(', 'Internet', 'Archive)', '***', 'START', 'OF', 'THE', 'PROJECT', 'GUTENBERG', 'BOLINAS', '***', '[Illustration:', '_Monarch', 'in', 'January_]']\n"
     ]
    }
   ],
   "source": [
    "#split the text based on white space\n",
    "words = text.split() \n",
    "print('Number of words: ', len(words))\n",
    "print(words)"
   ]
  },
  {
   "cell_type": "code",
   "execution_count": 35,
   "id": "4197e535",
   "metadata": {},
   "outputs": [
    {
     "name": "stdout",
     "output_type": "stream",
     "text": [
      "Number of words:  56\n",
      "['The', 'Project', 'Gutenberg', 'eBook', 'of', 'Winter', 'Butterflies', 'in', 'Bolinas', 'by', 'Mary', 'D', 'Barber', 'You', 'may', 'copy', 'it', 'give', 'it', 'away', 'or', 'reuse', 'it', 'at', 'wwwgutenbergorg', 'Title', 'Winter', 'Butterflies', 'in', 'Bolinas', 'Release', 'Date', 'September', '8', '2021', 'eBook', '66247', 'Language', 'English', 'Produced', 'by', 'Stephen', 'Hutcheson', 'httpswwwpgdpnet', 'Internet', 'Archive', 'START', 'OF', 'THE', 'PROJECT', 'GUTENBERG', 'BOLINAS', 'Illustration', 'Monarch', 'in', 'January']\n"
     ]
    }
   ],
   "source": [
    "# Remove punctuations\n",
    "import string\n",
    "table = str.maketrans('', '', string.punctuation)\n",
    "words_stripped = [w.translate(table) for w in words]\n",
    "# remove empty words\n",
    "words_stripped = [w for w in words_stripped if len(w)>0]\n",
    "print('Number of words: ', len(words_stripped))\n",
    "print(words_stripped)"
   ]
  },
  {
   "cell_type": "code",
   "execution_count": 37,
   "id": "6a7167a4",
   "metadata": {},
   "outputs": [
    {
     "name": "stdout",
     "output_type": "stream",
     "text": [
      "Number of words:  53\n",
      "['the', 'project', 'gutenberg', 'ebook', 'of', 'winter', 'butterflies', 'in', 'bolinas', 'by', 'mary', 'd', 'barber', 'you', 'may', 'copy', 'it', 'give', 'it', 'away', 'or', 'reuse', 'it', 'at', 'wwwgutenbergorg', 'title', 'winter', 'butterflies', 'in', 'bolinas', 'release', 'date', 'september', 'ebook', 'language', 'english', 'produced', 'by', 'stephen', 'hutcheson', 'httpswwwpgdpnet', 'internet', 'archive', 'start', 'of', 'the', 'project', 'gutenberg', 'bolinas', 'illustration', 'monarch', 'in', 'january']\n"
     ]
    }
   ],
   "source": [
    "# Select words made up on alphabets only\n",
    "# Also change the case to lower\n",
    "words_cleaned = [w.lower() for w in words_stripped if w.isalpha()]\n",
    "print(\"Number of words: \", len(words_cleaned))\n",
    "print(words_cleaned)"
   ]
  },
  {
   "cell_type": "code",
   "execution_count": 10,
   "id": "8c58eda3",
   "metadata": {},
   "outputs": [],
   "source": [
    "# Tokenize the text using NLTK\n",
    "words_nltk = word_tokenize(text)"
   ]
  },
  {
   "cell_type": "code",
   "execution_count": 11,
   "id": "ee55baca",
   "metadata": {},
   "outputs": [
    {
     "data": {
      "text/plain": [
       "['The',\n",
       " 'Project',\n",
       " 'Gutenberg',\n",
       " 'eBook',\n",
       " 'of',\n",
       " 'Winter',\n",
       " 'Butterflies',\n",
       " 'in',\n",
       " 'Bolinas',\n",
       " ',',\n",
       " 'by',\n",
       " 'Mary',\n",
       " 'D.',\n",
       " 'Barber',\n",
       " '.',\n",
       " 'You',\n",
       " 'may',\n",
       " 'copy',\n",
       " 'it',\n",
       " ',',\n",
       " 'give',\n",
       " 'it',\n",
       " 'away',\n",
       " 'or',\n",
       " 're-use',\n",
       " 'it',\n",
       " 'at',\n",
       " 'www.gutenberg.org',\n",
       " '.',\n",
       " 'Title',\n",
       " ':',\n",
       " 'Winter',\n",
       " 'Butterflies',\n",
       " 'in',\n",
       " 'Bolinas',\n",
       " 'Release',\n",
       " 'Date',\n",
       " ':',\n",
       " 'September',\n",
       " '8',\n",
       " ',',\n",
       " '2021',\n",
       " '[',\n",
       " 'eBook',\n",
       " '#',\n",
       " '66247',\n",
       " ']',\n",
       " 'Language',\n",
       " ':',\n",
       " 'English',\n",
       " 'Produced',\n",
       " 'by',\n",
       " ':',\n",
       " 'Stephen',\n",
       " 'Hutcheson',\n",
       " 'https',\n",
       " ':',\n",
       " '//www.pgdp.net',\n",
       " '(',\n",
       " 'Internet',\n",
       " 'Archive',\n",
       " ')',\n",
       " '*',\n",
       " '*',\n",
       " '*',\n",
       " 'START',\n",
       " 'OF',\n",
       " 'THE',\n",
       " 'PROJECT',\n",
       " 'GUTENBERG',\n",
       " 'BOLINAS',\n",
       " '*',\n",
       " '*',\n",
       " '*',\n",
       " '[',\n",
       " 'Illustration',\n",
       " ':',\n",
       " '_Monarch',\n",
       " 'in',\n",
       " 'January_',\n",
       " ']']"
      ]
     },
     "execution_count": 11,
     "metadata": {},
     "output_type": "execute_result"
    }
   ],
   "source": [
    "words_nltk"
   ]
  },
  {
   "cell_type": "code",
   "execution_count": 17,
   "id": "aec7383c",
   "metadata": {},
   "outputs": [],
   "source": [
    "# select only the alphabet words\n",
    "words_nltk = [w for w in words_nltk if w.isalpha()]\n",
    "# convert the words to lowercase\n",
    "words_nltk = [w.lower() for w in words_nltk]"
   ]
  },
  {
   "cell_type": "code",
   "execution_count": 18,
   "id": "47072956",
   "metadata": {},
   "outputs": [
    {
     "data": {
      "text/plain": [
       "['the',\n",
       " 'project',\n",
       " 'gutenberg',\n",
       " 'ebook',\n",
       " 'of',\n",
       " 'winter',\n",
       " 'butterflies',\n",
       " 'in',\n",
       " 'bolinas',\n",
       " 'by',\n",
       " 'mary',\n",
       " 'barber',\n",
       " 'you',\n",
       " 'may',\n",
       " 'copy',\n",
       " 'it',\n",
       " 'give',\n",
       " 'it',\n",
       " 'away',\n",
       " 'or',\n",
       " 'it',\n",
       " 'at',\n",
       " 'title',\n",
       " 'winter',\n",
       " 'butterflies',\n",
       " 'in',\n",
       " 'bolinas',\n",
       " 'release',\n",
       " 'date',\n",
       " 'september',\n",
       " 'ebook',\n",
       " 'language',\n",
       " 'english',\n",
       " 'produced',\n",
       " 'by',\n",
       " 'stephen',\n",
       " 'hutcheson',\n",
       " 'https',\n",
       " 'internet',\n",
       " 'archive',\n",
       " 'start',\n",
       " 'of',\n",
       " 'the',\n",
       " 'project',\n",
       " 'gutenberg',\n",
       " 'bolinas',\n",
       " 'illustration',\n",
       " 'in']"
      ]
     },
     "execution_count": 18,
     "metadata": {},
     "output_type": "execute_result"
    }
   ],
   "source": [
    "words_nltk"
   ]
  }
 ],
 "metadata": {
  "kernelspec": {
   "display_name": "Python 3",
   "language": "python",
   "name": "python3"
  },
  "language_info": {
   "codemirror_mode": {
    "name": "ipython",
    "version": 3
   },
   "file_extension": ".py",
   "mimetype": "text/x-python",
   "name": "python",
   "nbconvert_exporter": "python",
   "pygments_lexer": "ipython3",
   "version": "3.8.8"
  }
 },
 "nbformat": 4,
 "nbformat_minor": 5
}
