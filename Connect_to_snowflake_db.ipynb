{
 "cells": [
  {
   "cell_type": "markdown",
   "id": "4d585b5b",
   "metadata": {},
   "source": [
    "### Program to connect to snowflakes db using Python"
   ]
  },
  {
   "cell_type": "code",
   "execution_count": 5,
   "id": "f9df515a",
   "metadata": {},
   "outputs": [],
   "source": [
    "# Reference: https://predictivehacks.com/how-to-get-data-from-snowflake-using-python/"
   ]
  },
  {
   "cell_type": "code",
   "execution_count": 7,
   "id": "77453490",
   "metadata": {},
   "outputs": [],
   "source": [
    "import snowflake.connector\n",
    "import pandas as pd\n",
    "from snowflake.sqlalchemy import URL\n",
    "from sqlalchemy import create_engine"
   ]
  },
  {
   "cell_type": "code",
   "execution_count": 8,
   "id": "159d3251",
   "metadata": {},
   "outputs": [],
   "source": [
    "# create a connection engine\n",
    "url = URL(user='snowflake_username', password='snowflake_password', account='accountname', warehouse='warehouse_name', database='db_name', schema='schema_name', role = 'role')\n",
    "\n",
    "engine = create_engine(url)\n",
    "connection = engine.connect()"
   ]
  },
  {
   "cell_type": "code",
   "execution_count": 9,
   "id": "63228849",
   "metadata": {},
   "outputs": [
    {
     "name": "stdout",
     "output_type": "stream",
     "text": [
      "Shape of the dataframe is  (6588, 11)\n"
     ]
    }
   ],
   "source": [
    "# prepare the SQL query for extracting calls marked as CALLBACK\n",
    "query = \"SELECT * from table1\"\n",
    "# query the db and create a pandas dataframe\n",
    "df = pd.read_sql(query, connection)\n",
    "print('Shape of the dataframe is ', df.shape)"
   ]
  },
  {
   "cell_type": "markdown",
   "id": "16795ee4",
   "metadata": {},
   "source": [
    "### Create a spark dataframe from a snowflakes query"
   ]
  },
  {
   "cell_type": "code",
   "execution_count": null,
   "id": "6a47b064",
   "metadata": {},
   "outputs": [],
   "source": [
    "# Reference: https://sparkbyexamples.com/snowflake/using-snowflake-spark-connector/\n",
    "# https://docs.snowflake.com/en/user-guide/spark-connector-use.html"
   ]
  },
  {
   "cell_type": "code",
   "execution_count": 11,
   "id": "0c705366",
   "metadata": {},
   "outputs": [],
   "source": [
    "\n",
    "# Set options below\n",
    "sfOptions = {\n",
    "  \"sfURL\" : \"https://accountname.snowflakecomputing.com\",\n",
    "  \"sfUser\" : \"snowflake_userid\",\n",
    "  \"sfPassword\" : \"snowflake_password\",\n",
    "  \"sfDatabase\" : \"database_name\",\n",
    "  \"sfSchema\" : \"schema_name\",\n",
    "  \"sfWarehouse\" : \"warehouse_name\",\n",
    "  \"sfRole\" : \"role\"\n",
    "}\n",
    "SNOWFLAKE_SOURCE_NAME = \"net.snowflake.spark.snowflake\""
   ]
  },
  {
   "cell_type": "code",
   "execution_count": null,
   "id": "14235f3b",
   "metadata": {},
   "outputs": [],
   "source": [
    "# prepare the SQL query for extracting calls marked as CALLBACK\n",
    "query1 = \"SELECT * from table1\""
   ]
  },
  {
   "cell_type": "code",
   "execution_count": null,
   "id": "9b60e1d4",
   "metadata": {},
   "outputs": [],
   "source": [
    "# Read the data from snowflakes db into a spark dataframe\n",
    "df = spark.read.format(SNOWFLAKE_SOURCE_NAME).options(**sfOptions).option(\"query\", query1).load()"
   ]
  }
 ],
 "metadata": {
  "kernelspec": {
   "display_name": "Python 3 (ipykernel)",
   "language": "python",
   "name": "python3"
  },
  "language_info": {
   "codemirror_mode": {
    "name": "ipython",
    "version": 3
   },
   "file_extension": ".py",
   "mimetype": "text/x-python",
   "name": "python",
   "nbconvert_exporter": "python",
   "pygments_lexer": "ipython3",
   "version": "3.9.6"
  }
 },
 "nbformat": 4,
 "nbformat_minor": 5
}
