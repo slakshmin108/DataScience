{
 "cells": [
  {
   "cell_type": "code",
   "execution_count": 1,
   "id": "1e968172",
   "metadata": {},
   "outputs": [],
   "source": [
    "from nltk.tokenize import word_tokenize, sent_tokenize\n",
    "from nltk.corpus import stopwords\n",
    "from nltk.stem.porter import PorterStemmer\n",
    "import string"
   ]
  },
  {
   "cell_type": "code",
   "execution_count": 5,
   "id": "8006c3db",
   "metadata": {},
   "outputs": [
    {
     "name": "stdout",
     "output_type": "stream",
     "text": [
      "Length of the text is:  422\n"
     ]
    }
   ],
   "source": [
    "# Read the file \n",
    "file = open(\"C:\\\\Users\\ei11891\\OneDrive - TietoEVRY\\Documents\\Python Scripts\\sample.txt\", \"rt\") #for Windows\n",
    "#file = open('/Users/lakshminarasimhans/Documents/Learning/NLP/sample2.txt', 'rt') #for Mac\n",
    "text = file.read()\n",
    "file.close()\n",
    "print('Length of the text is: ', len(text))"
   ]
  },
  {
   "cell_type": "code",
   "execution_count": 6,
   "id": "9c149b97",
   "metadata": {},
   "outputs": [
    {
     "name": "stdout",
     "output_type": "stream",
     "text": [
      "The Project Gutenberg eBook of Winter Butterflies in Bolinas, by Mary D.\n",
      "Barber.\n",
      " \n",
      "You may copy it, give it away or re-use it  at\n",
      "www.gutenberg.org. \n",
      "\n",
      "Title: Winter Butterflies in Bolinas\n",
      "\n",
      "Release Date: September 8, 2021 [eBook #66247]\n",
      "\n",
      "Language: English\n",
      "\n",
      "\n",
      "Produced by: Stephen Hutcheson https://www.pgdp.net ( Internet Archive)\n",
      "\n",
      "*** START OF THE PROJECT GUTENBERG BOLINAS ***\n",
      "\n",
      "    [Illustration: _Monarch  in January_]\n",
      "\n",
      "\n",
      "\n"
     ]
    }
   ],
   "source": [
    "print(text)"
   ]
  },
  {
   "cell_type": "markdown",
   "id": "8035f91e",
   "metadata": {},
   "source": [
    "### Manual Tokenization"
   ]
  },
  {
   "cell_type": "code",
   "execution_count": 4,
   "id": "8ad4e38c",
   "metadata": {},
   "outputs": [
    {
     "name": "stdout",
     "output_type": "stream",
     "text": [
      "Number of words:  43\n",
      "['I', 'am', 'Super', 'Star', \"Rajinikanth's\", 'fan.', 'I', 'have', 'watched', 'many', 'of', \"Rajni's\", 'films.', 'The', 'last', 'film', 'I', 'watched', 'was', 'Darbar.', 'Have', 'you', 'watched', 'any?', 'It', \"wasn't\", 'until', '1987', 'I', 'became', 'his', 'die-hard', 'fan.', 'He', 'is', 'great!', 'Long', 'live', 'Rajini!!!', '(Please', '*apologise*', 'for', 'typos)']\n"
     ]
    }
   ],
   "source": [
    "#split the text based on white space\n",
    "words = text.split() \n",
    "print('Number of words: ', len(words))\n",
    "print(words)"
   ]
  },
  {
   "cell_type": "code",
   "execution_count": 25,
   "id": "f2a5ed04",
   "metadata": {},
   "outputs": [
    {
     "name": "stdout",
     "output_type": "stream",
     "text": [
      "Number of words:  36\n",
      "['I', 'am', 'Super', 'Star', 'Rajinikanths', 'fan', 'I', 'have', 'watched', 'many', 'of', 'Rajnis', 'films', 'Have', 'you', 'watched', 'any', 'It', 'wasnt', 'until', '1987', 'I', 'became', 'his', 'diehard', 'fan', 'He', 'is', 'great', 'Long', 'live', 'Rajini', 'Please', 'apologise', 'for', 'typos']\n"
     ]
    }
   ],
   "source": [
    "# Remove punctuations\n",
    "import string\n",
    "table = str.maketrans('', '', string.punctuation)\n",
    "words_stripped = [w.translate(table) for w in words]\n",
    "# remove empty words\n",
    "words_stripped = [w for w in words_stripped if len(w)>0]\n",
    "print('Number of words: ', len(words_stripped))\n",
    "print(words_stripped)"
   ]
  },
  {
   "cell_type": "code",
   "execution_count": 26,
   "id": "298f9aa3",
   "metadata": {},
   "outputs": [
    {
     "name": "stdout",
     "output_type": "stream",
     "text": [
      "!\"#$%&'()*+,-./:;<=>?@[\\]^_`{|}~\n"
     ]
    }
   ],
   "source": [
    "print(string.punctuation)"
   ]
  },
  {
   "cell_type": "code",
   "execution_count": 27,
   "id": "77f8a1e8",
   "metadata": {},
   "outputs": [
    {
     "name": "stdout",
     "output_type": "stream",
     "text": [
      "Number of words:  35\n",
      "['i', 'am', 'super', 'star', 'rajinikanths', 'fan', 'i', 'have', 'watched', 'many', 'of', 'rajnis', 'films', 'have', 'you', 'watched', 'any', 'it', 'wasnt', 'until', 'i', 'became', 'his', 'diehard', 'fan', 'he', 'is', 'great', 'long', 'live', 'rajini', 'please', 'apologise', 'for', 'typos']\n"
     ]
    }
   ],
   "source": [
    "# Select words made up of alphabets only\n",
    "# Also change the case to lower\n",
    "words_cleaned = [w.lower() for w in words_stripped if w.isalpha()]\n",
    "print(\"Number of words: \", len(words_cleaned))\n",
    "print(words_cleaned)"
   ]
  },
  {
   "cell_type": "code",
   "execution_count": 41,
   "id": "d3c5b67d",
   "metadata": {},
   "outputs": [
    {
     "name": "stdout",
     "output_type": "stream",
     "text": [
      "Number of words:  20\n",
      "['super', 'star', 'rajinikanths', 'fan', 'watched', 'many', 'rajnis', 'films', 'watched', 'wasnt', 'became', 'diehard', 'fan', 'great', 'long', 'live', 'rajini', 'please', 'apologise', 'typos']\n"
     ]
    }
   ],
   "source": [
    "# remove stop words\n",
    "stop_words = stopwords.words('english')\n",
    "words_cleaned = [w for w in words_cleaned if not w in stop_words]\n",
    "print(\"Number of words: \", len(words_cleaned))\n",
    "print(words_cleaned)"
   ]
  },
  {
   "cell_type": "code",
   "execution_count": 44,
   "id": "a3b1d6a3",
   "metadata": {},
   "outputs": [
    {
     "name": "stdout",
     "output_type": "stream",
     "text": [
      "Number of words:  20\n",
      "['super', 'star', 'rajinikanth', 'fan', 'watch', 'mani', 'rajni', 'film', 'watch', 'wasnt', 'becam', 'diehard', 'fan', 'great', 'long', 'live', 'rajini', 'pleas', 'apologis', 'typo']\n"
     ]
    }
   ],
   "source": [
    "# stemming of words\n",
    "porter = PorterStemmer()\n",
    "stemmed_words = [porter.stem(word) for word in words_cleaned]\n",
    "print(\"Number of words: \", len(stemmed_words))\n",
    "print(stemmed_words)"
   ]
  },
  {
   "cell_type": "code",
   "execution_count": 3,
   "id": "69103a83",
   "metadata": {},
   "outputs": [
    {
     "name": "stdout",
     "output_type": "stream",
     "text": [
      "Number of words after cleaning:  24\n",
      "['super', 'star', 'rajinikanths', 'fan', 'watched', 'many', 'rajnis', 'films', 'last', 'film', 'watched', 'darbar', 'watched', 'wasnt', 'became', 'diehard', 'fan', 'great', 'long', 'live', 'rajini', 'please', 'apologise', 'typos']\n",
      "Number of stem words:  24\n",
      "['super', 'star', 'rajinikanth', 'fan', 'watch', 'mani', 'rajni', 'film', 'last', 'film', 'watch', 'darbar', 'watch', 'wasnt', 'becam', 'diehard', 'fan', 'great', 'long', 'live', 'rajini', 'pleas', 'apologis', 'typo']\n"
     ]
    }
   ],
   "source": [
    "# Build a pipeline for cleaning the text using manual methods by \n",
    "# concatenating the above steps\n",
    "# 1. Split the words based on whitespace\n",
    "words_split = text.split()\n",
    "# 2. Remove punctuations\n",
    "table = str.maketrans('', '', string.punctuation)\n",
    "words_stripped = [w.translate(table) for w in words_split]\n",
    "# 3. Retain words made of alphabets only and convert to lowercase\n",
    "words_cleaned = [w.lower() for w in words_stripped if w.isalpha()]\n",
    "# 4. Remove stop words\n",
    "stop_words = set(stopwords.words('english'))\n",
    "words_cleaned = [w for w in words_cleaned if not w in stop_words]\n",
    "print(\"Number of words after cleaning: \", len(words_cleaned))\n",
    "print(words_cleaned)\n",
    "# 5. Reduce to stem words\n",
    "porter = PorterStemmer()\n",
    "words_stemmed = [porter.stem(w) for w in words_cleaned]\n",
    "print(\"Number of stem words: \", len(words_stemmed))\n",
    "print(words_stemmed)"
   ]
  },
  {
   "cell_type": "markdown",
   "id": "94653004",
   "metadata": {},
   "source": [
    "### Tokenization using NLP "
   ]
  },
  {
   "cell_type": "code",
   "execution_count": 5,
   "id": "b50fdeb8",
   "metadata": {},
   "outputs": [
    {
     "name": "stdout",
     "output_type": "stream",
     "text": [
      "Number of words:  59\n",
      "['I', 'am', 'Super', 'Star', 'Rajinikanth', \"'s\", 'fan', '.', 'I', 'have', 'watched', 'many', 'of', 'Rajni', \"'s\", 'films', '.', 'The', 'last', 'film', 'I', 'watched', 'was', 'Darbar', '.', 'Have', 'you', 'watched', 'any', '?', 'It', 'was', \"n't\", 'until', '1987', 'I', 'became', 'his', 'die-hard', 'fan', '.', 'He', 'is', 'great', '!', 'Long', 'live', 'Rajini', '!', '!', '!', '(', 'Please', '*', 'apologise', '*', 'for', 'typos', ')']\n"
     ]
    }
   ],
   "source": [
    "# Tokenize the text using NLTK\n",
    "words_nltk = word_tokenize(text)\n",
    "print(\"Number of words: \", len(words_nltk))\n",
    "print(words_nltk)"
   ]
  },
  {
   "cell_type": "code",
   "execution_count": 21,
   "id": "d3e09363",
   "metadata": {},
   "outputs": [
    {
     "name": "stdout",
     "output_type": "stream",
     "text": [
      "I am Super Star Rajinikanth's fan.\n",
      "I have watched \n",
      "many of Rajni's films.\n",
      "The last film I watched \n",
      "was Darbar.\n",
      "Have you watched any?\n",
      "It wasn't until \n",
      "1987 I became his die-hard fan.\n",
      "He is great!\n",
      "Long live Rajini!!!\n",
      "(Please *apologise* for typos)\n"
     ]
    }
   ],
   "source": [
    "sentences = sent_tokenize(text)\n",
    "for s in sentences:\n",
    "    print(s)"
   ]
  },
  {
   "cell_type": "code",
   "execution_count": 6,
   "id": "1a3adbba",
   "metadata": {},
   "outputs": [
    {
     "name": "stdout",
     "output_type": "stream",
     "text": [
      "Number of words:  41\n",
      "['i', 'am', 'super', 'star', 'rajinikanth', 'fan', 'i', 'have', 'watched', 'many', 'of', 'rajni', 'films', 'the', 'last', 'film', 'i', 'watched', 'was', 'darbar', 'have', 'you', 'watched', 'any', 'it', 'was', 'until', 'i', 'became', 'his', 'fan', 'he', 'is', 'great', 'long', 'live', 'rajini', 'please', 'apologise', 'for', 'typos']\n"
     ]
    }
   ],
   "source": [
    "# select only the alphabet words\n",
    "words_nltk = [w for w in words_nltk if w.isalpha()]\n",
    "# convert the words to lowercase\n",
    "words_nltk = [w.lower() for w in words_nltk]\n",
    "print(\"Number of words: \", len(words_nltk))\n",
    "print(words_nltk)"
   ]
  },
  {
   "cell_type": "code",
   "execution_count": 7,
   "id": "e0006c2e",
   "metadata": {},
   "outputs": [
    {
     "name": "stdout",
     "output_type": "stream",
     "text": [
      "['i', 'me', 'my', 'myself', 'we', 'our', 'ours', 'ourselves', 'you', \"you're\", \"you've\", \"you'll\", \"you'd\", 'your', 'yours', 'yourself', 'yourselves', 'he', 'him', 'his', 'himself', 'she', \"she's\", 'her', 'hers', 'herself', 'it', \"it's\", 'its', 'itself', 'they', 'them', 'their', 'theirs', 'themselves', 'what', 'which', 'who', 'whom', 'this', 'that', \"that'll\", 'these', 'those', 'am', 'is', 'are', 'was', 'were', 'be', 'been', 'being', 'have', 'has', 'had', 'having', 'do', 'does', 'did', 'doing', 'a', 'an', 'the', 'and', 'but', 'if', 'or', 'because', 'as', 'until', 'while', 'of', 'at', 'by', 'for', 'with', 'about', 'against', 'between', 'into', 'through', 'during', 'before', 'after', 'above', 'below', 'to', 'from', 'up', 'down', 'in', 'out', 'on', 'off', 'over', 'under', 'again', 'further', 'then', 'once', 'here', 'there', 'when', 'where', 'why', 'how', 'all', 'any', 'both', 'each', 'few', 'more', 'most', 'other', 'some', 'such', 'no', 'nor', 'not', 'only', 'own', 'same', 'so', 'than', 'too', 'very', 's', 't', 'can', 'will', 'just', 'don', \"don't\", 'should', \"should've\", 'now', 'd', 'll', 'm', 'o', 're', 've', 'y', 'ain', 'aren', \"aren't\", 'couldn', \"couldn't\", 'didn', \"didn't\", 'doesn', \"doesn't\", 'hadn', \"hadn't\", 'hasn', \"hasn't\", 'haven', \"haven't\", 'isn', \"isn't\", 'ma', 'mightn', \"mightn't\", 'mustn', \"mustn't\", 'needn', \"needn't\", 'shan', \"shan't\", 'shouldn', \"shouldn't\", 'wasn', \"wasn't\", 'weren', \"weren't\", 'won', \"won't\", 'wouldn', \"wouldn't\"]\n"
     ]
    }
   ],
   "source": [
    "# remove stop words\n",
    "stop_words = stopwords.words('english')\n",
    "print(stop_words)"
   ]
  },
  {
   "cell_type": "code",
   "execution_count": 8,
   "id": "5ff6362f",
   "metadata": {},
   "outputs": [
    {
     "name": "stdout",
     "output_type": "stream",
     "text": [
      "Number of words:  22\n",
      "['super', 'star', 'rajinikanth', 'fan', 'watched', 'many', 'rajni', 'films', 'last', 'film', 'watched', 'darbar', 'watched', 'became', 'fan', 'great', 'long', 'live', 'rajini', 'please', 'apologise', 'typos']\n"
     ]
    }
   ],
   "source": [
    "words_nltk = [w for w in words_nltk if not w in stop_words]\n",
    "print(\"Number of words: \", len(words_nltk))\n",
    "print(words_nltk)"
   ]
  },
  {
   "cell_type": "code",
   "execution_count": 15,
   "id": "ae85c1ad",
   "metadata": {},
   "outputs": [
    {
     "name": "stdout",
     "output_type": "stream",
     "text": [
      "Number of words after cleaning:  24\n",
      "['super', 'star', 'rajinikanth', 'fan', 'watched', 'many', 'rajni', 'films', 'last', 'film', 'watched', 'darbar', 'watched', 'nt', 'became', 'diehard', 'fan', 'great', 'long', 'live', 'rajini', 'please', 'apologise', 'typos']\n",
      "Number of stem words:  24\n",
      "['super', 'star', 'rajinikanth', 'fan', 'watch', 'mani', 'rajni', 'film', 'last', 'film', 'watch', 'darbar', 'watch', 'nt', 'becam', 'diehard', 'fan', 'great', 'long', 'live', 'rajini', 'pleas', 'apologis', 'typo']\n"
     ]
    }
   ],
   "source": [
    "# NLTK Pipeline for data cleansing\n",
    "# 1. Tokenize the words\n",
    "words_tokens = word_tokenize(text)\n",
    "# 2. remove punctuation\n",
    "table = str.maketrans('', '', string.punctuation)\n",
    "words_stripped = [w.translate(table) for w in words_tokens]\n",
    "# 3. remove words not alphabetic and convert to lowercase\n",
    "words_lower = [w.lower() for w in words_stripped if w.isalpha()]\n",
    "# 4. remove stop words\n",
    "stop_words = stopwords.words('english') \n",
    "words_list = [w for w in words_lower if not w in set(stop_words)]\n",
    "print(\"Number of words after cleaning: \", len(words_list))\n",
    "print(words_list)\n",
    "# 5. reduce the word list to stem words\n",
    "porter = PorterStemmer()\n",
    "words_stem = [porter.stem(w) for w in words_list] \n",
    "print(\"Number of stem words: \", len(words_stem))\n",
    "print(words_stem)"
   ]
  },
  {
   "cell_type": "code",
   "execution_count": 16,
   "id": "2df31c63",
   "metadata": {},
   "outputs": [
    {
     "name": "stdout",
     "output_type": "stream",
     "text": [
      "['super', 'star', 'rajinikanths', 'fan', 'watched', 'many', 'rajnis', 'films', 'last', 'film', 'watched', 'darbar', 'watched', 'wasnt', 'became', 'diehard', 'fan', 'great', 'long', 'live', 'rajini', 'please', 'apologise', 'typos']\n"
     ]
    }
   ],
   "source": [
    "print(words_cleaned)"
   ]
  },
  {
   "cell_type": "code",
   "execution_count": 17,
   "id": "8c5e9d0d",
   "metadata": {},
   "outputs": [
    {
     "name": "stdout",
     "output_type": "stream",
     "text": [
      "['super', 'star', 'rajinikanth', 'fan', 'watched', 'many', 'rajni', 'films', 'last', 'film', 'watched', 'darbar', 'watched', 'nt', 'became', 'diehard', 'fan', 'great', 'long', 'live', 'rajini', 'please', 'apologise', 'typos']\n"
     ]
    }
   ],
   "source": [
    "print(words_list)"
   ]
  },
  {
   "cell_type": "code",
   "execution_count": 19,
   "id": "849e8633",
   "metadata": {},
   "outputs": [
    {
     "data": {
      "text/plain": [
       "24"
      ]
     },
     "execution_count": 19,
     "metadata": {},
     "output_type": "execute_result"
    }
   ],
   "source": [
    "len(words_list)"
   ]
  }
 ],
 "metadata": {
  "kernelspec": {
   "display_name": "Python 3",
   "language": "python",
   "name": "python3"
  },
  "language_info": {
   "codemirror_mode": {
    "name": "ipython",
    "version": 3
   },
   "file_extension": ".py",
   "mimetype": "text/x-python",
   "name": "python",
   "nbconvert_exporter": "python",
   "pygments_lexer": "ipython3",
   "version": "3.8.8"
  }
 },
 "nbformat": 4,
 "nbformat_minor": 5
}
